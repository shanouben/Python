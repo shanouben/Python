{
 "cells": [
  {
   "cell_type": "code",
   "execution_count": 3,
   "metadata": {},
   "outputs": [],
   "source": [
    "#Price est le coût de production d'une option\n",
    "#On peut comparer le truc de monte carlos et notre formule de black and schole \n",
    "# B&S(transfome price to implied volatility)\n",
    "#\n",
    "#chercher def de atm (at the money)#"
   ]
  },
  {
   "cell_type": "code",
   "execution_count": 4,
   "metadata": {},
   "outputs": [],
   "source": [
    "import numpy as np\n",
    "from scipy.stats import norm\n",
    "import matplotlib.pyplot as plt\n",
    "from mpl_toolkits import mplot3d\n",
    "plt.rcParams[\"figure.figsize\"] = (16,9)\n",
    "from mpl_toolkits import mplot3d"
   ]
  },
  {
   "cell_type": "markdown",
   "metadata": {},
   "source": [
    "Black and Schole formula pour un call"
   ]
  },
  {
   "cell_type": "code",
   "execution_count": 5,
   "metadata": {},
   "outputs": [],
   "source": [
    "N = norm.cdf\n",
    "\n",
    "def BS_CALL(S, K, r, sigma, T):\n",
    "    d1 = (np.log(S/K) + (r + sigma**2/2)*T) / (sigma*np.sqrt(T))\n",
    "    d2 = d1 - sigma * np.sqrt(T)\n",
    "    return S * N(d1) - K * np.exp(-r*T)* N(d2)"
   ]
  },
  {
   "cell_type": "markdown",
   "metadata": {},
   "source": [
    "Monte carlos methode"
   ]
  },
  {
   "cell_type": "code",
   "execution_count": 24,
   "metadata": {},
   "outputs": [],
   "source": [
    "def MC(S, r, sigma, T, g, nb_simulations = 10000):\n",
    "    X = np.random.normal(np.log(S) + (r - 0.5*sigma**2)*T, sigma*np.sqrt(T), size = nb_simulations)\n",
    "    return np.mean(np.exp(-r*T)* g(np.exp(X))), 1.96*np.std(np.exp(-r*T)*g(np.exp(X)))/np.sqrt(nb_simulations)"
   ]
  },
  {
   "cell_type": "code",
   "execution_count": 21,
   "metadata": {},
   "outputs": [],
   "source": [
    "S = 100. #stop price\n",
    "K = 100. #strike price\n",
    "r = 0.01 #risk free rate\n",
    "sigma = 0.2 #volatility\n",
    "T=1. \n",
    "g = lambda S : np.maximum(S-K,0.) #Payoff fonction it's a way to define a function"
   ]
  },
  {
   "cell_type": "code",
   "execution_count": 22,
   "metadata": {},
   "outputs": [
    {
     "data": {
      "text/plain": [
       "8.433318690109608"
      ]
     },
     "execution_count": 22,
     "metadata": {},
     "output_type": "execute_result"
    }
   ],
   "source": [
    "BS_CALL(S,K,r,sigma,T)"
   ]
  },
  {
   "cell_type": "code",
   "execution_count": 29,
   "metadata": {},
   "outputs": [
    {
     "data": {
      "text/plain": [
       "(8.435071911000705, 0.26544175965742206)"
      ]
     },
     "execution_count": 29,
     "metadata": {},
     "output_type": "execute_result"
    }
   ],
   "source": [
    "nb_simulations = 100000\n",
    "np.random.seed(42)\n",
    "MC(S, r, sigma, T, g)"
   ]
  },
  {
   "cell_type": "code",
   "execution_count": null,
   "metadata": {},
   "outputs": [],
   "source": [
    "def pde_scheme_explicit(S, r, sigma,T, K, H, nb_x_side, nb_t):\n",
    "    nb_x = 2* nb_x_side +1\n",
    "    xs = np.linspace(np.log)\n",
    "    \n",
    "    \n"
   ]
  },
  {
   "cell_type": "code",
   "execution_count": null,
   "metadata": {},
   "outputs": [],
   "source": [
    "##fichier heat equation (voir photo)\n",
    "\n",
    "# I = 10 000 points de temps\n",
    "# J = 100 point d'espace\n",
    "#scheme \n",
    "#TIME IS LIKE X AND SPACE IS Y : matrice ligne pas colonne (uij)\n",
    "#M matrice \n",
    "#B matrice d'identité\n",
    "#-1 en dessous de la diagonale et 1 au dessus de la diagonale\n",
    "\n",
    "## chercher @ matmul en python \n",
    "\n",
    "#cfl condition (explicit scheme is instable quand on se rapproche de 0,5 er si cest en dessous)\n",
    "#ça ne fonctionne pas \n",
    "#Pour comprendre les PDE il faut le voir comme des températures \n",
    "\n",
    "#m"
   ]
  },
  {
   "cell_type": "code",
   "execution_count": null,
   "metadata": {},
   "outputs": [],
   "source": []
  }
 ],
 "metadata": {
  "kernelspec": {
   "display_name": "Python 3.9.13 64-bit",
   "language": "python",
   "name": "python3"
  },
  "language_info": {
   "codemirror_mode": {
    "name": "ipython",
    "version": 3
   },
   "file_extension": ".py",
   "mimetype": "text/x-python",
   "name": "python",
   "nbconvert_exporter": "python",
   "pygments_lexer": "ipython3",
   "version": "3.9.13"
  },
  "orig_nbformat": 4,
  "vscode": {
   "interpreter": {
    "hash": "ac2eaa0ea0ebeafcc7822e65e46aa9d4f966f30b695406963e145ea4a91cd4fc"
   }
  }
 },
 "nbformat": 4,
 "nbformat_minor": 2
}
