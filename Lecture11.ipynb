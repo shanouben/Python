{
 "cells": [
  {
   "cell_type": "code",
   "execution_count": null,
   "metadata": {},
   "outputs": [],
   "source": [
    "##Lecture 1 : 11 september "
   ]
  },
  {
   "cell_type": "code",
   "execution_count": null,
   "metadata": {},
   "outputs": [],
   "source": [
    "import numpy as np\n",
    "from datetime import datetime\n",
    "import pandas as pd\n",
    "import matplotlib.pyplot as plt\n",
    "import seaborn as sns\n",
    "from tqdm import tqdm"
   ]
  },
  {
   "cell_type": "code",
   "execution_count": null,
   "metadata": {},
   "outputs": [],
   "source": [
    "data = pd.read_excel('excel1.xlsx',sheet_name= 'Data')\n",
    "data"
   ]
  },
  {
   "cell_type": "code",
   "execution_count": null,
   "metadata": {},
   "outputs": [],
   "source": [
    "##Clean the data\n",
    "\n",
    "price_df_list = []\n",
    "for i in tqdm(range(120)):\n",
    "    price_data = data.iloc[:,3*i:3*i+2].copy()\n",
    "    price_data.dropna(inplace=True)\n",
    "    price_data.iloc[:,0] = pd.to_datetime(price_data.iloc[:,0], unit= 'D', origin= '1899-12-30')\n",
    "    price_data.rename(columns = {price_data.columns[0] : 'Date', price_data.columns[1]: price_data.columns[0]}, inplace = True)\n",
    "    price_data.set_index('Date', inplace = True)\n",
    "    price_df_list.append(price_data)\n",
    "\n",
    "agg_price_data = price_df_list[0]\n",
    "for df in tqdm(price_df_list[1:]):\n",
    "    agg_price_data = agg_price_data.join(df, how='outer', sort = True)\n",
    " \n",
    "price_data"
   ]
  },
  {
   "cell_type": "code",
   "execution_count": null,
   "metadata": {},
   "outputs": [],
   "source": [
    "\n",
    "##clean the data -- all the missing value are rempli par backfill (un methode)\n",
    "for ticker in agg_price_data.columns:\n",
    "    series = agg_price_data[ticker]\n",
    "    first = series.first_valid_index()\n",
    "    last = series.last_valid_index()\n",
    "    series_real = series[(series.index >= first) & (series.index <= last)].fillna(method = 'bfill')\n",
    "    agg_price_data[ticker][(agg_price_data[ticker].index >= first) & (agg_price_data[ticker].index <= last)] = series_real"
   ]
  },
  {
   "cell_type": "code",
   "execution_count": null,
   "metadata": {
    "collapsed": false,
    "pycharm": {
     "name": "#%%\n"
    }
   },
   "outputs": [],
   "source": [
    "bnp_prices = agg_price_data['BNP FP Equity']['2019':]\n",
    "sg_prices = agg_price_data['GLE FP Equity']['2019':]\n",
    "\n",
    "bnp_prices"
   ]
  },
  {
   "cell_type": "code",
   "execution_count": null,
   "metadata": {
    "collapsed": false,
    "pycharm": {
     "name": "#%%\n"
    }
   },
   "outputs": [],
   "source": [
    "fontsize = 9\n",
    "width_in_cm = 14.\n",
    "params = {'figure.figsize': (width_in_cm / 2.54, width_in_cm / 2.54 * 9./16.),\n",
    "          'axes.labelsize': fontsize,\n",
    "          'axes.titlesize': fontsize,\n",
    "          'xtick.labelsize': fontsize*0.75,\n",
    "          'ytick.labelsize': fontsize*0.75,\n",
    "          'legend.fontsize': fontsize*0.75}\n",
    "plt.rcParams.update(params)"
   ]
  },
  {
   "cell_type": "code",
   "execution_count": null,
   "metadata": {
    "collapsed": false,
    "pycharm": {
     "name": "#%%\n"
    }
   },
   "outputs": [],
   "source": [
    "fig, axbnp = plt.subplots(1,1)\n",
    "axsg = axbnp.twinx()\n",
    "axbnp.plot(bnp_prices, 'g', label = 'BNP')\n",
    "axsg.plot(sg_prices, 'r', label = 'SG')\n",
    "axbnp.set_xlabel('Time')\n",
    "axbnp.set_ylabel('BNP price in €')\n",
    "axsg.set_ylabel('SG price in €')\n",
    "axbnp.legend(loc=3)\n",
    "axsg.legend(loc=4)\n",
    "axbnp.tick_params(axis='x', rotation=45)\n",
    "axbnp.set_title('Prices of BNP and SG')\n",
    "axbnp.annotate('coronavirus', xy=(datetime(2020, 3, 2), bnp_prices[datetime(2020, 3, 2)]),\n",
    "            xytext=(datetime(2020, 6, 2), bnp_prices[datetime(2020, 3, 2)]+6), fontsize=fontsize, arrowprops={'facecolor': 'black', 'width': 1})\n",
    "axbnp.grid(axis='x', linestyle='--')\n",
    "fig.tight_layout()\n",
    "fig.savefig('prices.pdf')\n",
    "plt.show()"
   ]
  },
  {
   "cell_type": "code",
   "execution_count": null,
   "metadata": {
    "collapsed": false,
    "pycharm": {
     "name": "#%%\n"
    }
   },
   "outputs": [],
   "source": [
    "bnp = agg_price_data[['BNP FP Equity']].pct_change().dropna()['2019':]\n",
    "bnp.rename(columns = {'BNP FP Equity' : 'daily price return'}, inplace = True)\n",
    "bnp['ticker'] = 'BNP FP Equity'\n",
    "bnp\n",
    "\n",
    "sg = agg_price_data[['GLE FP Equity']].pct_change().dropna()['2019':]\n",
    "sg.rename(columns = {'GLE FP Equity' : 'daily price return'}, inplace = True)\n",
    "sg['ticker'] = 'GLE FP Equity'\n",
    "sg\n",
    "\n",
    "data_returns = pd.concat([bnp, sg])\n",
    "data_returns['Year'] = data_returns.index.year"
   ]
  },
  {
   "cell_type": "code",
   "execution_count": null,
   "metadata": {
    "collapsed": false,
    "pycharm": {
     "name": "#%%\n"
    }
   },
   "outputs": [],
   "source": [
    "fig, ax = plt.subplots(1,1)\n",
    "#sns.set_theme(style='blue')\n",
    "sns.violinplot(ax=ax, data=data_returns, x='Year', y='daily price return', hue='ticker', split=True)\n",
    "ax.set_title('Distribution of daily price returns')\n",
    "ax.legend(loc=2)\n",
    "fig.tight_layout()\n",
    "plt.savefig('violin.pdf')\n",
    "plt.show()"
   ]
  },
  {
   "cell_type": "code",
   "execution_count": null,
   "metadata": {
    "collapsed": false,
    "pycharm": {
     "name": "#%%\n"
    }
   },
   "outputs": [],
   "source": [
    "data_returns = agg_price_data[['BNP FP Equity', 'GLE FP Equity']].pct_change().dropna().loc['2019':]\n",
    "data_returns['year'] = data_returns.index.year"
   ]
  },
  {
   "cell_type": "code",
   "execution_count": null,
   "metadata": {
    "collapsed": false,
    "pycharm": {
     "name": "#%%\n"
    }
   },
   "outputs": [],
   "source": [
    "p = sns.jointplot(data=data_returns, x='BNP FP Equity', y='GLE FP Equity', hue='year', height=12./2.54)\n",
    "p.fig.suptitle('Joint distribution of daily price returns', fontsize=fontsize)\n",
    "p.fig.tight_layout()\n",
    "plt.savefig('jointplot.pdf')\n",
    "plt.show()"
   ]
  }
 ],
 "metadata": {
  "kernelspec": {
   "display_name": "Python 3.9.13 64-bit",
   "language": "python",
   "name": "python3"
  },
  "language_info": {
   "codemirror_mode": {
    "name": "ipython",
    "version": 3
   },
   "file_extension": ".py",
   "mimetype": "text/x-python",
   "name": "python",
   "nbconvert_exporter": "python",
   "pygments_lexer": "ipython3",
   "version": "3.9.13"
  },
  "vscode": {
   "interpreter": {
    "hash": "ac2eaa0ea0ebeafcc7822e65e46aa9d4f966f30b695406963e145ea4a91cd4fc"
   }
  }
 },
 "nbformat": 4,
 "nbformat_minor": 4
}
