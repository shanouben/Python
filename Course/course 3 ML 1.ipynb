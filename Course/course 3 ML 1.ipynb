{
 "cells": [
  {
   "cell_type": "code",
   "execution_count": 1,
   "metadata": {},
   "outputs": [],
   "source": [
    "import numpy as np\n",
    "import matplotlib.pyplot as plt\n",
    "import sklearn"
   ]
  },
  {
   "cell_type": "code",
   "execution_count": 2,
   "metadata": {},
   "outputs": [],
   "source": [
    "#from sklearn.datasets import fetch_openml #scikit-learn\n",
    "#mnist = fetch_openml('mnist_784', version=1, as_frame=False)"
   ]
  },
  {
   "cell_type": "code",
   "execution_count": 3,
   "metadata": {},
   "outputs": [],
   "source": [
    "#mnist"
   ]
  },
  {
   "cell_type": "code",
   "execution_count": 4,
   "metadata": {},
   "outputs": [],
   "source": [
    "#type(mnist)"
   ]
  },
  {
   "cell_type": "code",
   "execution_count": 5,
   "metadata": {},
   "outputs": [],
   "source": [
    "from sklearn.utils import Bunch"
   ]
  },
  {
   "cell_type": "code",
   "execution_count": 6,
   "metadata": {},
   "outputs": [],
   "source": [
    "dico = dict(apple = 20, apricot = 15, peach = 0)"
   ]
  },
  {
   "cell_type": "code",
   "execution_count": 7,
   "metadata": {},
   "outputs": [
    {
     "data": {
      "text/plain": [
       "{'apple': 20, 'apricot': 15, 'peach': 0}"
      ]
     },
     "execution_count": 7,
     "metadata": {},
     "output_type": "execute_result"
    }
   ],
   "source": [
    "dico"
   ]
  },
  {
   "cell_type": "code",
   "execution_count": 8,
   "metadata": {},
   "outputs": [
    {
     "data": {
      "text/plain": [
       "20"
      ]
     },
     "execution_count": 8,
     "metadata": {},
     "output_type": "execute_result"
    }
   ],
   "source": [
    "dico['apple']"
   ]
  },
  {
   "cell_type": "code",
   "execution_count": 9,
   "metadata": {},
   "outputs": [],
   "source": [
    " # dico2.apple # does not work"
   ]
  },
  {
   "cell_type": "code",
   "execution_count": 10,
   "metadata": {},
   "outputs": [],
   "source": [
    "bunch = Bunch(apple = 20, apricot = 15, peach = 0)"
   ]
  },
  {
   "cell_type": "code",
   "execution_count": 11,
   "metadata": {},
   "outputs": [
    {
     "data": {
      "text/plain": [
       "{'apple': 20, 'apricot': 15, 'peach': 0}"
      ]
     },
     "execution_count": 11,
     "metadata": {},
     "output_type": "execute_result"
    }
   ],
   "source": [
    "bunch"
   ]
  },
  {
   "cell_type": "code",
   "execution_count": 12,
   "metadata": {},
   "outputs": [
    {
     "data": {
      "text/plain": [
       "20"
      ]
     },
     "execution_count": 12,
     "metadata": {},
     "output_type": "execute_result"
    }
   ],
   "source": [
    "bunch['apple']"
   ]
  },
  {
   "cell_type": "code",
   "execution_count": 13,
   "metadata": {},
   "outputs": [
    {
     "data": {
      "text/plain": [
       "20"
      ]
     },
     "execution_count": 13,
     "metadata": {},
     "output_type": "execute_result"
    }
   ],
   "source": [
    "bunch.apple"
   ]
  },
  {
   "cell_type": "code",
   "execution_count": 14,
   "metadata": {},
   "outputs": [
    {
     "ename": "NameError",
     "evalue": "name 'mnist' is not defined",
     "output_type": "error",
     "traceback": [
      "\u001b[0;31m---------------------------------------------------------------------------\u001b[0m",
      "\u001b[0;31mNameError\u001b[0m                                 Traceback (most recent call last)",
      "\u001b[1;32m/Users/shanou/Documents/Python/Course/course 3 ML 1.ipynb Cellule 14\u001b[0m in \u001b[0;36m<cell line: 1>\u001b[0;34m()\u001b[0m\n\u001b[0;32m----> <a href='vscode-notebook-cell:/Users/shanou/Documents/Python/Course/course%203%20ML%201.ipynb#X16sZmlsZQ%3D%3D?line=0'>1</a>\u001b[0m mnist\u001b[39m.\u001b[39mkeys()\n",
      "\u001b[0;31mNameError\u001b[0m: name 'mnist' is not defined"
     ]
    }
   ],
   "source": [
    "#mnist.keys()"
   ]
  },
  {
   "cell_type": "code",
   "execution_count": null,
   "metadata": {},
   "outputs": [
    {
     "name": "stdout",
     "output_type": "stream",
     "text": [
      "**Author**: Yann LeCun, Corinna Cortes, Christopher J.C. Burges  \n",
      "**Source**: [MNIST Website](http://yann.lecun.com/exdb/mnist/) - Date unknown  \n",
      "**Please cite**:  \n",
      "\n",
      "The MNIST database of handwritten digits with 784 features, raw data available at: http://yann.lecun.com/exdb/mnist/. It can be split in a training set of the first 60,000 examples, and a test set of 10,000 examples  \n",
      "\n",
      "It is a subset of a larger set available from NIST. The digits have been size-normalized and centered in a fixed-size image. It is a good database for people who want to try learning techniques and pattern recognition methods on real-world data while spending minimal efforts on preprocessing and formatting. The original black and white (bilevel) images from NIST were size normalized to fit in a 20x20 pixel box while preserving their aspect ratio. The resulting images contain grey levels as a result of the anti-aliasing technique used by the normalization algorithm. the images were centered in a 28x28 image by computing the center of mass of the pixels, and translating the image so as to position this point at the center of the 28x28 field.  \n",
      "\n",
      "With some classification methods (particularly template-based methods, such as SVM and K-nearest neighbors), the error rate improves when the digits are centered by bounding box rather than center of mass. If you do this kind of pre-processing, you should report it in your publications. The MNIST database was constructed from NIST's NIST originally designated SD-3 as their training set and SD-1 as their test set. However, SD-3 is much cleaner and easier to recognize than SD-1. The reason for this can be found on the fact that SD-3 was collected among Census Bureau employees, while SD-1 was collected among high-school students. Drawing sensible conclusions from learning experiments requires that the result be independent of the choice of training set and test among the complete set of samples. Therefore it was necessary to build a new database by mixing NIST's datasets.  \n",
      "\n",
      "The MNIST training set is composed of 30,000 patterns from SD-3 and 30,000 patterns from SD-1. Our test set was composed of 5,000 patterns from SD-3 and 5,000 patterns from SD-1. The 60,000 pattern training set contained examples from approximately 250 writers. We made sure that the sets of writers of the training set and test set were disjoint. SD-1 contains 58,527 digit images written by 500 different writers. In contrast to SD-3, where blocks of data from each writer appeared in sequence, the data in SD-1 is scrambled. Writer identities for SD-1 is available and we used this information to unscramble the writers. We then split SD-1 in two: characters written by the first 250 writers went into our new training set. The remaining 250 writers were placed in our test set. Thus we had two sets with nearly 30,000 examples each. The new training set was completed with enough examples from SD-3, starting at pattern # 0, to make a full set of 60,000 training patterns. Similarly, the new test set was completed with SD-3 examples starting at pattern # 35,000 to make a full set with 60,000 test patterns. Only a subset of 10,000 test images (5,000 from SD-1 and 5,000 from SD-3) is available on this site. The full 60,000 sample training set is available.\n",
      "\n",
      "Downloaded from openml.org.\n"
     ]
    }
   ],
   "source": [
    "#print(mnist.DESCR)"
   ]
  },
  {
   "cell_type": "code",
   "execution_count": null,
   "metadata": {},
   "outputs": [],
   "source": [
    "#X = mnist.data"
   ]
  },
  {
   "cell_type": "code",
   "execution_count": null,
   "metadata": {},
   "outputs": [
    {
     "data": {
      "text/plain": [
       "array([[0., 0., 0., ..., 0., 0., 0.],\n",
       "       [0., 0., 0., ..., 0., 0., 0.],\n",
       "       [0., 0., 0., ..., 0., 0., 0.],\n",
       "       ...,\n",
       "       [0., 0., 0., ..., 0., 0., 0.],\n",
       "       [0., 0., 0., ..., 0., 0., 0.],\n",
       "       [0., 0., 0., ..., 0., 0., 0.]])"
      ]
     },
     "execution_count": 59,
     "metadata": {},
     "output_type": "execute_result"
    }
   ],
   "source": [
    "#X"
   ]
  },
  {
   "cell_type": "code",
   "execution_count": null,
   "metadata": {},
   "outputs": [
    {
     "data": {
      "text/plain": [
       "(70000, 784)"
      ]
     },
     "execution_count": 60,
     "metadata": {},
     "output_type": "execute_result"
    }
   ],
   "source": [
    "#X.shape"
   ]
  },
  {
   "cell_type": "code",
   "execution_count": null,
   "metadata": {},
   "outputs": [
    {
     "data": {
      "image/png": "[encoded data removed]",
      "text/plain": [
       "<Figure size 432x288 with 1 Axes>"
      ]
     },
     "metadata": {
      "needs_background": "light"
     },
     "output_type": "display_data"
    }
   ],
   "source": [
    "plt.imshow(X[0].reshape([28,28]), cmap='binary')\n",
    "plt.show()"
   ]
  },
  {
   "cell_type": "code",
   "execution_count": null,
   "metadata": {},
   "outputs": [
    {
     "data": {
      "image/png": "[encoded data removed]",
      "text/plain": [
       "<Figure size 432x288 with 1 Axes>"
      ]
     },
     "metadata": {
      "needs_background": "light"
     },
     "output_type": "display_data"
    },
    {
     "data": {
      "image/png": "[encoded data removed]",
      "text/plain": [
       "<Figure size 432x288 with 1 Axes>"
      ]
     },
     "metadata": {
      "needs_background": "light"
     },
     "output_type": "display_data"
    },
    {
     "data": {
      "image/png": "[encoded data removed]",
      "text/plain": [
       "<Figure size 432x288 with 1 Axes>"
      ]
     },
     "metadata": {
      "needs_background": "light"
     },
     "output_type": "display_data"
    },
    {
     "data": {
      "image/png": "[encoded data removed]",
      "text/plain": [
       "<Figure size 432x288 with 1 Axes>"
      ]
     },
     "metadata": {
      "needs_background": "light"
     },
     "output_type": "display_data"
    },
    {
     "data": {
      "image/png": "[encoded data removed]",
      "text/plain": [
       "<Figure size 432x288 with 1 Axes>"
      ]
     },
     "metadata": {
      "needs_background": "light"
     },
     "output_type": "display_data"
    },
    {
     "data": {
      "image/png": "[encoded data removed]",
      "text/plain": [
       "<Figure size 432x288 with 1 Axes>"
      ]
     },
     "metadata": {
      "needs_background": "light"
     },
     "output_type": "display_data"
    },
    {
     "data": {
      "image/png": "[encoded data removed]",
      "text/plain": [
       "<Figure size 432x288 with 1 Axes>"
      ]
     },
     "metadata": {
      "needs_background": "light"
     },
     "output_type": "display_data"
    },
    {
     "data": {
      "image/png": "[encoded data removed]",
      "text/plain": [
       "<Figure size 432x288 with 1 Axes>"
      ]
     },
     "metadata": {
      "needs_background": "light"
     },
     "output_type": "display_data"
    },
    {
     "data": {
      "image/png": "[encoded data removed]",
      "text/plain": [
       "<Figure size 432x288 with 1 Axes>"
      ]
     },
     "metadata": {
      "needs_background": "light"
     },
     "output_type": "display_data"
    },
    {
     "data": {
      "image/png": "[encoded data removed]",
      "text/plain": [
       "<Figure size 432x288 with 1 Axes>"
      ]
     },
     "metadata": {
      "needs_background": "light"
     },
     "output_type": "display_data"
    }
   ],
   "source": [
    "for i in range(10):\n",
    "    plt.imshow(np.reshape(X[i], (28,28)), cmap='binary')\n",
    "    plt.show()"
   ]
  },
  {
   "cell_type": "code",
   "execution_count": null,
   "metadata": {},
   "outputs": [
    {
     "data": {
      "text/plain": [
       "array(['5', '0', '4', ..., '4', '5', '6'], dtype=object)"
      ]
     },
     "execution_count": 63,
     "metadata": {},
     "output_type": "execute_result"
    }
   ],
   "source": [
    "y = mnist.target\n",
    "y"
   ]
  },
  {
   "cell_type": "code",
   "execution_count": null,
   "metadata": {},
   "outputs": [
    {
     "data": {
      "text/plain": [
       "(70000,)"
      ]
     },
     "execution_count": 64,
     "metadata": {},
     "output_type": "execute_result"
    }
   ],
   "source": [
    "y.shape"
   ]
  },
  {
   "cell_type": "code",
   "execution_count": null,
   "metadata": {},
   "outputs": [
    {
     "data": {
      "text/plain": [
       "array([5, 0, 4, ..., 4, 5, 6], dtype=uint8)"
      ]
     },
     "execution_count": 65,
     "metadata": {},
     "output_type": "execute_result"
    }
   ],
   "source": [
    "y = y.astype('uint8')\n",
    "y"
   ]
  },
  {
   "cell_type": "code",
   "execution_count": null,
   "metadata": {},
   "outputs": [],
   "source": [
    "X_train = X[:60000]\n",
    "y_train = y[:60000]\n",
    "X_test = X[60000:]\n",
    "y_test = y[60000:]"
   ]
  },
  {
   "cell_type": "code",
   "execution_count": null,
   "metadata": {},
   "outputs": [
    {
     "data": {
      "image/png": "[encoded data removed]",
      "text/plain": [
       "<Figure size 432x288 with 1 Axes>"
      ]
     },
     "metadata": {
      "needs_background": "light"
     },
     "output_type": "display_data"
    }
   ],
   "source": [
    "plt.hist(y_train, bins = 10)\n",
    "plt.show()"
   ]
  },
  {
   "cell_type": "code",
   "execution_count": null,
   "metadata": {},
   "outputs": [],
   "source": [
    "y_is_two_train = (y_train == 2)\n",
    "y_is_two_test = (y_test == 2)"
   ]
  },
  {
   "cell_type": "code",
   "execution_count": null,
   "metadata": {},
   "outputs": [
    {
     "data": {
      "text/plain": [
       "0.0993"
      ]
     },
     "execution_count": 69,
     "metadata": {},
     "output_type": "execute_result"
    }
   ],
   "source": [
    "np.mean(y_is_two_train)"
   ]
  },
  {
   "cell_type": "code",
   "execution_count": null,
   "metadata": {},
   "outputs": [],
   "source": [
    "from sklearn.linear_model import LogisticRegression"
   ]
  },
  {
   "cell_type": "code",
   "execution_count": null,
   "metadata": {},
   "outputs": [
    {
     "name": "stdout",
     "output_type": "stream",
     "text": [
      "CPU times: user 19 s, sys: 656 ms, total: 19.7 s\n",
      "Wall time: 5.32 s\n"
     ]
    },
    {
     "name": "stderr",
     "output_type": "stream",
     "text": [
      "/usr/local/lib/python3.9/site-packages/sklearn/linear_model/_logistic.py:444: ConvergenceWarning: lbfgs failed to converge (status=1):\n",
      "STOP: TOTAL NO. of ITERATIONS REACHED LIMIT.\n",
      "\n",
      "Increase the number of iterations (max_iter) or scale the data as shown in:\n",
      "    https://scikit-learn.org/stable/modules/preprocessing.html\n",
      "Please also refer to the documentation for alternative solver options:\n",
      "    https://scikit-learn.org/stable/modules/linear_model.html#logistic-regression\n",
      "  n_iter_i = _check_optimize_result(\n"
     ]
    },
    {
     "data": {
      "text/html": [
       "<style>#sk-container-id-5 {color: black;background-color: white;}#sk-container-id-5 pre{padding: 0;}#sk-container-id-5 div.sk-toggleable {background-color: white;}#sk-container-id-5 label.sk-toggleable__label {cursor: pointer;display: block;width: 100%;margin-bottom: 0;padding: 0.3em;box-sizing: border-box;text-align: center;}#sk-container-id-5 label.sk-toggleable__label-arrow:before {content: \"▸\";float: left;margin-right: 0.25em;color: #696969;}#sk-container-id-5 label.sk-toggleable__label-arrow:hover:before {color: black;}#sk-container-id-5 div.sk-estimator:hover label.sk-toggleable__label-arrow:before {color: black;}#sk-container-id-5 div.sk-toggleable__content {max-height: 0;max-width: 0;overflow: hidden;text-align: left;background-color: #f0f8ff;}#sk-container-id-5 div.sk-toggleable__content pre {margin: 0.2em;color: black;border-radius: 0.25em;background-color: #f0f8ff;}#sk-container-id-5 input.sk-toggleable__control:checked~div.sk-toggleable__content {max-height: 200px;max-width: 100%;overflow: auto;}#sk-container-id-5 input.sk-toggleable__control:checked~label.sk-toggleable__label-arrow:before {content: \"▾\";}#sk-container-id-5 div.sk-estimator input.sk-toggleable__control:checked~label.sk-toggleable__label {background-color: #d4ebff;}#sk-container-id-5 div.sk-label input.sk-toggleable__control:checked~label.sk-toggleable__label {background-color: #d4ebff;}#sk-container-id-5 input.sk-hidden--visually {border: 0;clip: rect(1px 1px 1px 1px);clip: rect(1px, 1px, 1px, 1px);height: 1px;margin: -1px;overflow: hidden;padding: 0;position: absolute;width: 1px;}#sk-container-id-5 div.sk-estimator {font-family: monospace;background-color: #f0f8ff;border: 1px dotted black;border-radius: 0.25em;box-sizing: border-box;margin-bottom: 0.5em;}#sk-container-id-5 div.sk-estimator:hover {background-color: #d4ebff;}#sk-container-id-5 div.sk-parallel-item::after {content: \"\";width: 100%;border-bottom: 1px solid gray;flex-grow: 1;}#sk-container-id-5 div.sk-label:hover label.sk-toggleable__label {background-color: #d4ebff;}#sk-container-id-5 div.sk-serial::before {content: \"\";position: absolute;border-left: 1px solid gray;box-sizing: border-box;top: 0;bottom: 0;left: 50%;z-index: 0;}#sk-container-id-5 div.sk-serial {display: flex;flex-direction: column;align-items: center;background-color: white;padding-right: 0.2em;padding-left: 0.2em;position: relative;}#sk-container-id-5 div.sk-item {position: relative;z-index: 1;}#sk-container-id-5 div.sk-parallel {display: flex;align-items: stretch;justify-content: center;background-color: white;position: relative;}#sk-container-id-5 div.sk-item::before, #sk-container-id-5 div.sk-parallel-item::before {content: \"\";position: absolute;border-left: 1px solid gray;box-sizing: border-box;top: 0;bottom: 0;left: 50%;z-index: -1;}#sk-container-id-5 div.sk-parallel-item {display: flex;flex-direction: column;z-index: 1;position: relative;background-color: white;}#sk-container-id-5 div.sk-parallel-item:first-child::after {align-self: flex-end;width: 50%;}#sk-container-id-5 div.sk-parallel-item:last-child::after {align-self: flex-start;width: 50%;}#sk-container-id-5 div.sk-parallel-item:only-child::after {width: 0;}#sk-container-id-5 div.sk-dashed-wrapped {border: 1px dashed gray;margin: 0 0.4em 0.5em 0.4em;box-sizing: border-box;padding-bottom: 0.4em;background-color: white;}#sk-container-id-5 div.sk-label label {font-family: monospace;font-weight: bold;display: inline-block;line-height: 1.2em;}#sk-container-id-5 div.sk-label-container {text-align: center;}#sk-container-id-5 div.sk-container {/* jupyter's `normalize.less` sets `[hidden] { display: none; }` but bootstrap.min.css set `[hidden] { display: none !important; }` so we also need the `!important` here to be able to override the default hidden behavior on the sphinx rendered scikit-learn.org. See: https://github.com/scikit-learn/scikit-learn/issues/21755 */display: inline-block !important;position: relative;}#sk-container-id-5 div.sk-text-repr-fallback {display: none;}</style><div id=\"sk-container-id-5\" class=\"sk-top-container\"><div class=\"sk-text-repr-fallback\"><pre>LogisticRegression()</pre><b>In a Jupyter environment, please rerun this cell to show the HTML representation or trust the notebook. <br />On GitHub, the HTML representation is unable to render, please try loading this page with nbviewer.org.</b></div><div class=\"sk-container\" hidden><div class=\"sk-item\"><div class=\"sk-estimator sk-toggleable\"><input class=\"sk-toggleable__control sk-hidden--visually\" id=\"sk-estimator-id-5\" type=\"checkbox\" checked><label for=\"sk-estimator-id-5\" class=\"sk-toggleable__label sk-toggleable__label-arrow\">LogisticRegression</label><div class=\"sk-toggleable__content\"><pre>LogisticRegression()</pre></div></div></div></div></div>"
      ],
      "text/plain": [
       "LogisticRegression()"
      ]
     },
     "execution_count": 71,
     "metadata": {},
     "output_type": "execute_result"
    }
   ],
   "source": [
    "\n",
    "log_clf = LogisticRegression()\n",
    "log_clf.fit(X_train, y_is_two_train)"
   ]
  },
  {
   "cell_type": "code",
   "execution_count": null,
   "metadata": {},
   "outputs": [
    {
     "data": {
      "text/plain": [
       "array([100], dtype=int32)"
      ]
     },
     "execution_count": 72,
     "metadata": {},
     "output_type": "execute_result"
    }
   ],
   "source": [
    "log_clf.n_iter_"
   ]
  },
  {
   "cell_type": "code",
   "execution_count": null,
   "metadata": {},
   "outputs": [
    {
     "name": "stdout",
     "output_type": "stream",
     "text": [
      "CPU times: user 1min 30s, sys: 2.76 s, total: 1min 33s\n",
      "Wall time: 24.2 s\n"
     ]
    },
    {
     "name": "stderr",
     "output_type": "stream",
     "text": [
      "/usr/local/lib/python3.9/site-packages/sklearn/linear_model/_logistic.py:444: ConvergenceWarning: lbfgs failed to converge (status=1):\n",
      "STOP: TOTAL NO. of ITERATIONS REACHED LIMIT.\n",
      "\n",
      "Increase the number of iterations (max_iter) or scale the data as shown in:\n",
      "    https://scikit-learn.org/stable/modules/preprocessing.html\n",
      "Please also refer to the documentation for alternative solver options:\n",
      "    https://scikit-learn.org/stable/modules/linear_model.html#logistic-regression\n",
      "  n_iter_i = _check_optimize_result(\n"
     ]
    },
    {
     "data": {
      "text/html": [
       "<style>#sk-container-id-6 {color: black;background-color: white;}#sk-container-id-6 pre{padding: 0;}#sk-container-id-6 div.sk-toggleable {background-color: white;}#sk-container-id-6 label.sk-toggleable__label {cursor: pointer;display: block;width: 100%;margin-bottom: 0;padding: 0.3em;box-sizing: border-box;text-align: center;}#sk-container-id-6 label.sk-toggleable__label-arrow:before {content: \"▸\";float: left;margin-right: 0.25em;color: #696969;}#sk-container-id-6 label.sk-toggleable__label-arrow:hover:before {color: black;}#sk-container-id-6 div.sk-estimator:hover label.sk-toggleable__label-arrow:before {color: black;}#sk-container-id-6 div.sk-toggleable__content {max-height: 0;max-width: 0;overflow: hidden;text-align: left;background-color: #f0f8ff;}#sk-container-id-6 div.sk-toggleable__content pre {margin: 0.2em;color: black;border-radius: 0.25em;background-color: #f0f8ff;}#sk-container-id-6 input.sk-toggleable__control:checked~div.sk-toggleable__content {max-height: 200px;max-width: 100%;overflow: auto;}#sk-container-id-6 input.sk-toggleable__control:checked~label.sk-toggleable__label-arrow:before {content: \"▾\";}#sk-container-id-6 div.sk-estimator input.sk-toggleable__control:checked~label.sk-toggleable__label {background-color: #d4ebff;}#sk-container-id-6 div.sk-label input.sk-toggleable__control:checked~label.sk-toggleable__label {background-color: #d4ebff;}#sk-container-id-6 input.sk-hidden--visually {border: 0;clip: rect(1px 1px 1px 1px);clip: rect(1px, 1px, 1px, 1px);height: 1px;margin: -1px;overflow: hidden;padding: 0;position: absolute;width: 1px;}#sk-container-id-6 div.sk-estimator {font-family: monospace;background-color: #f0f8ff;border: 1px dotted black;border-radius: 0.25em;box-sizing: border-box;margin-bottom: 0.5em;}#sk-container-id-6 div.sk-estimator:hover {background-color: #d4ebff;}#sk-container-id-6 div.sk-parallel-item::after {content: \"\";width: 100%;border-bottom: 1px solid gray;flex-grow: 1;}#sk-container-id-6 div.sk-label:hover label.sk-toggleable__label {background-color: #d4ebff;}#sk-container-id-6 div.sk-serial::before {content: \"\";position: absolute;border-left: 1px solid gray;box-sizing: border-box;top: 0;bottom: 0;left: 50%;z-index: 0;}#sk-container-id-6 div.sk-serial {display: flex;flex-direction: column;align-items: center;background-color: white;padding-right: 0.2em;padding-left: 0.2em;position: relative;}#sk-container-id-6 div.sk-item {position: relative;z-index: 1;}#sk-container-id-6 div.sk-parallel {display: flex;align-items: stretch;justify-content: center;background-color: white;position: relative;}#sk-container-id-6 div.sk-item::before, #sk-container-id-6 div.sk-parallel-item::before {content: \"\";position: absolute;border-left: 1px solid gray;box-sizing: border-box;top: 0;bottom: 0;left: 50%;z-index: -1;}#sk-container-id-6 div.sk-parallel-item {display: flex;flex-direction: column;z-index: 1;position: relative;background-color: white;}#sk-container-id-6 div.sk-parallel-item:first-child::after {align-self: flex-end;width: 50%;}#sk-container-id-6 div.sk-parallel-item:last-child::after {align-self: flex-start;width: 50%;}#sk-container-id-6 div.sk-parallel-item:only-child::after {width: 0;}#sk-container-id-6 div.sk-dashed-wrapped {border: 1px dashed gray;margin: 0 0.4em 0.5em 0.4em;box-sizing: border-box;padding-bottom: 0.4em;background-color: white;}#sk-container-id-6 div.sk-label label {font-family: monospace;font-weight: bold;display: inline-block;line-height: 1.2em;}#sk-container-id-6 div.sk-label-container {text-align: center;}#sk-container-id-6 div.sk-container {/* jupyter's `normalize.less` sets `[hidden] { display: none; }` but bootstrap.min.css set `[hidden] { display: none !important; }` so we also need the `!important` here to be able to override the default hidden behavior on the sphinx rendered scikit-learn.org. See: https://github.com/scikit-learn/scikit-learn/issues/21755 */display: inline-block !important;position: relative;}#sk-container-id-6 div.sk-text-repr-fallback {display: none;}</style><div id=\"sk-container-id-6\" class=\"sk-top-container\"><div class=\"sk-text-repr-fallback\"><pre>LogisticRegression(max_iter=500)</pre><b>In a Jupyter environment, please rerun this cell to show the HTML representation or trust the notebook. <br />On GitHub, the HTML representation is unable to render, please try loading this page with nbviewer.org.</b></div><div class=\"sk-container\" hidden><div class=\"sk-item\"><div class=\"sk-estimator sk-toggleable\"><input class=\"sk-toggleable__control sk-hidden--visually\" id=\"sk-estimator-id-6\" type=\"checkbox\" checked><label for=\"sk-estimator-id-6\" class=\"sk-toggleable__label sk-toggleable__label-arrow\">LogisticRegression</label><div class=\"sk-toggleable__content\"><pre>LogisticRegression(max_iter=500)</pre></div></div></div></div></div>"
      ],
      "text/plain": [
       "LogisticRegression(max_iter=500)"
      ]
     },
     "execution_count": 73,
     "metadata": {},
     "output_type": "execute_result"
    }
   ],
   "source": [
    "log_clf = LogisticRegression(max_iter = 500)\n",
    "log_clf.fit(X_train, y_is_two_train)"
   ]
  },
  {
   "cell_type": "code",
   "execution_count": null,
   "metadata": {},
   "outputs": [
    {
     "data": {
      "text/plain": [
       "array([500], dtype=int32)"
      ]
     },
     "execution_count": 74,
     "metadata": {},
     "output_type": "execute_result"
    }
   ],
   "source": [
    "log_clf.n_iter_"
   ]
  },
  {
   "cell_type": "markdown",
   "metadata": {},
   "source": [
    "YOU MUST RESCALE THE DATA"
   ]
  },
  {
   "cell_type": "code",
   "execution_count": null,
   "metadata": {},
   "outputs": [],
   "source": [
    "from sklearn.preprocessing import StandardScaler"
   ]
  },
  {
   "cell_type": "code",
   "execution_count": null,
   "metadata": {},
   "outputs": [],
   "source": [
    "sc = StandardScaler()\n",
    "sc.fit(X_train)\n",
    "X_train_reduced = sc.transform(X_train)\n",
    "#X_train_reduced = sc.fit_transform(X_train)"
   ]
  },
  {
   "cell_type": "code",
   "execution_count": null,
   "metadata": {},
   "outputs": [],
   "source": [
    "log_clf = LogisticRegression(max_iter=500) #logistique reg does not implies logist regress"
   ]
  },
  {
   "cell_type": "code",
   "execution_count": null,
   "metadata": {},
   "outputs": [
    {
     "data": {
      "text/html": [
       "<style>#sk-container-id-7 {color: black;background-color: white;}#sk-container-id-7 pre{padding: 0;}#sk-container-id-7 div.sk-toggleable {background-color: white;}#sk-container-id-7 label.sk-toggleable__label {cursor: pointer;display: block;width: 100%;margin-bottom: 0;padding: 0.3em;box-sizing: border-box;text-align: center;}#sk-container-id-7 label.sk-toggleable__label-arrow:before {content: \"▸\";float: left;margin-right: 0.25em;color: #696969;}#sk-container-id-7 label.sk-toggleable__label-arrow:hover:before {color: black;}#sk-container-id-7 div.sk-estimator:hover label.sk-toggleable__label-arrow:before {color: black;}#sk-container-id-7 div.sk-toggleable__content {max-height: 0;max-width: 0;overflow: hidden;text-align: left;background-color: #f0f8ff;}#sk-container-id-7 div.sk-toggleable__content pre {margin: 0.2em;color: black;border-radius: 0.25em;background-color: #f0f8ff;}#sk-container-id-7 input.sk-toggleable__control:checked~div.sk-toggleable__content {max-height: 200px;max-width: 100%;overflow: auto;}#sk-container-id-7 input.sk-toggleable__control:checked~label.sk-toggleable__label-arrow:before {content: \"▾\";}#sk-container-id-7 div.sk-estimator input.sk-toggleable__control:checked~label.sk-toggleable__label {background-color: #d4ebff;}#sk-container-id-7 div.sk-label input.sk-toggleable__control:checked~label.sk-toggleable__label {background-color: #d4ebff;}#sk-container-id-7 input.sk-hidden--visually {border: 0;clip: rect(1px 1px 1px 1px);clip: rect(1px, 1px, 1px, 1px);height: 1px;margin: -1px;overflow: hidden;padding: 0;position: absolute;width: 1px;}#sk-container-id-7 div.sk-estimator {font-family: monospace;background-color: #f0f8ff;border: 1px dotted black;border-radius: 0.25em;box-sizing: border-box;margin-bottom: 0.5em;}#sk-container-id-7 div.sk-estimator:hover {background-color: #d4ebff;}#sk-container-id-7 div.sk-parallel-item::after {content: \"\";width: 100%;border-bottom: 1px solid gray;flex-grow: 1;}#sk-container-id-7 div.sk-label:hover label.sk-toggleable__label {background-color: #d4ebff;}#sk-container-id-7 div.sk-serial::before {content: \"\";position: absolute;border-left: 1px solid gray;box-sizing: border-box;top: 0;bottom: 0;left: 50%;z-index: 0;}#sk-container-id-7 div.sk-serial {display: flex;flex-direction: column;align-items: center;background-color: white;padding-right: 0.2em;padding-left: 0.2em;position: relative;}#sk-container-id-7 div.sk-item {position: relative;z-index: 1;}#sk-container-id-7 div.sk-parallel {display: flex;align-items: stretch;justify-content: center;background-color: white;position: relative;}#sk-container-id-7 div.sk-item::before, #sk-container-id-7 div.sk-parallel-item::before {content: \"\";position: absolute;border-left: 1px solid gray;box-sizing: border-box;top: 0;bottom: 0;left: 50%;z-index: -1;}#sk-container-id-7 div.sk-parallel-item {display: flex;flex-direction: column;z-index: 1;position: relative;background-color: white;}#sk-container-id-7 div.sk-parallel-item:first-child::after {align-self: flex-end;width: 50%;}#sk-container-id-7 div.sk-parallel-item:last-child::after {align-self: flex-start;width: 50%;}#sk-container-id-7 div.sk-parallel-item:only-child::after {width: 0;}#sk-container-id-7 div.sk-dashed-wrapped {border: 1px dashed gray;margin: 0 0.4em 0.5em 0.4em;box-sizing: border-box;padding-bottom: 0.4em;background-color: white;}#sk-container-id-7 div.sk-label label {font-family: monospace;font-weight: bold;display: inline-block;line-height: 1.2em;}#sk-container-id-7 div.sk-label-container {text-align: center;}#sk-container-id-7 div.sk-container {/* jupyter's `normalize.less` sets `[hidden] { display: none; }` but bootstrap.min.css set `[hidden] { display: none !important; }` so we also need the `!important` here to be able to override the default hidden behavior on the sphinx rendered scikit-learn.org. See: https://github.com/scikit-learn/scikit-learn/issues/21755 */display: inline-block !important;position: relative;}#sk-container-id-7 div.sk-text-repr-fallback {display: none;}</style><div id=\"sk-container-id-7\" class=\"sk-top-container\"><div class=\"sk-text-repr-fallback\"><pre>LogisticRegression(max_iter=500)</pre><b>In a Jupyter environment, please rerun this cell to show the HTML representation or trust the notebook. <br />On GitHub, the HTML representation is unable to render, please try loading this page with nbviewer.org.</b></div><div class=\"sk-container\" hidden><div class=\"sk-item\"><div class=\"sk-estimator sk-toggleable\"><input class=\"sk-toggleable__control sk-hidden--visually\" id=\"sk-estimator-id-7\" type=\"checkbox\" checked><label for=\"sk-estimator-id-7\" class=\"sk-toggleable__label sk-toggleable__label-arrow\">LogisticRegression</label><div class=\"sk-toggleable__content\"><pre>LogisticRegression(max_iter=500)</pre></div></div></div></div></div>"
      ],
      "text/plain": [
       "LogisticRegression(max_iter=500)"
      ]
     },
     "execution_count": 78,
     "metadata": {},
     "output_type": "execute_result"
    }
   ],
   "source": [
    "log_clf.fit(X_train_reduced, y_is_two_train)"
   ]
  },
  {
   "cell_type": "code",
   "execution_count": null,
   "metadata": {},
   "outputs": [
    {
     "data": {
      "text/plain": [
       "array([397], dtype=int32)"
      ]
     },
     "execution_count": 79,
     "metadata": {},
     "output_type": "execute_result"
    }
   ],
   "source": [
    "log_clf.n_iter_"
   ]
  },
  {
   "cell_type": "code",
   "execution_count": null,
   "metadata": {},
   "outputs": [
    {
     "data": {
      "text/plain": [
       "(array([-7.54338787]),\n",
       " array([[ 0.00000000e+00,  0.00000000e+00,  0.00000000e+00,\n",
       "          0.00000000e+00,  0.00000000e+00,  0.00000000e+00,\n",
       "          0.00000000e+00,  0.00000000e+00,  0.00000000e+00,\n",
       "          0.00000000e+00,  0.00000000e+00,  0.00000000e+00,\n",
       "         -6.22483484e-03,  3.67992563e-03,  1.44971039e-02,\n",
       "          1.44971039e-02,  0.00000000e+00,  0.00000000e+00,\n",
       "          0.00000000e+00,  0.00000000e+00,  0.00000000e+00,\n",
       "          0.00000000e+00,  0.00000000e+00,  0.00000000e+00,\n",
       "          0.00000000e+00,  0.00000000e+00,  0.00000000e+00,\n",
       "          0.00000000e+00,  0.00000000e+00,  0.00000000e+00,\n",
       "          0.00000000e+00,  0.00000000e+00, -1.15741110e-03,\n",
       "         -1.88474329e-03, -4.22746779e-02, -8.76487040e-03,\n",
       "          1.06940827e-02, -2.45756712e-02, -7.60289959e-03,\n",
       "          3.16354213e-02, -7.72389814e-02, -7.21835173e-02,\n",
       "          2.10211517e-02, -3.43035135e-02,  5.62612732e-02,\n",
       "         -4.27939542e-02, -7.33012461e-04, -2.01737429e-01,\n",
       "         -3.27056695e-02, -2.22153109e-02, -7.84728985e-03,\n",
       "         -1.28708059e-02,  0.00000000e+00,  0.00000000e+00,\n",
       "          0.00000000e+00,  0.00000000e+00,  0.00000000e+00,\n",
       "          0.00000000e+00, -2.08156311e-02, -3.09783332e-02,\n",
       "         -3.54441709e-02, -2.97117112e-02,  7.91165855e-02,\n",
       "         -8.03392924e-02, -2.83814270e-03,  4.10435573e-02,\n",
       "         -1.17579423e-01, -1.54904683e-02,  1.87694053e-02,\n",
       "         -5.91280570e-02, -8.59764322e-02,  1.76548580e-02,\n",
       "         -8.61032022e-02, -6.89861970e-02, -4.33329096e-03,\n",
       "         -1.78855588e-01, -8.72294714e-02,  7.64600433e-03,\n",
       "         -2.24271876e-01,  8.11458958e-02,  5.30744565e-02,\n",
       "          1.58701204e-02,  0.00000000e+00,  0.00000000e+00,\n",
       "          0.00000000e+00,  0.00000000e+00,  2.05192265e-02,\n",
       "          3.41504529e-02, -4.29310035e-02,  2.96714853e-02,\n",
       "         -7.38220564e-02,  6.86409784e-02, -7.80274574e-02,\n",
       "          9.85213242e-02,  1.33621874e-02,  4.81860818e-02,\n",
       "         -5.34036659e-02,  1.09341653e-01, -2.04298905e-02,\n",
       "         -7.83230457e-02,  1.84290289e-02,  1.31452331e-02,\n",
       "         -1.49045871e-01,  3.37887750e-02, -3.13644456e-02,\n",
       "         -1.73722324e-02,  7.72335140e-02, -1.54062173e-01,\n",
       "         -1.47087530e-01,  8.54610476e-02, -4.42941849e-02,\n",
       "          0.00000000e+00,  0.00000000e+00, -2.06509633e-02,\n",
       "         -2.74204491e-02, -2.27434362e-02, -3.28679622e-02,\n",
       "         -2.32785370e-02,  1.20099810e-01,  4.78733190e-02,\n",
       "         -9.29529221e-02,  1.62424414e-01,  7.15132882e-03,\n",
       "          4.43818015e-03,  1.03381687e-01, -2.00901257e-02,\n",
       "          1.75470904e-01, -9.80212781e-02,  1.12696498e-01,\n",
       "         -1.40468285e-01,  2.29430511e-02, -9.01012571e-02,\n",
       "         -5.37922331e-02, -8.10830810e-02, -1.81519512e-01,\n",
       "         -1.15331192e-01, -3.78199780e-01,  1.39055926e-01,\n",
       "         -8.79610821e-02, -9.56790207e-03,  0.00000000e+00,\n",
       "          0.00000000e+00, -4.02470243e-03,  1.25629384e-02,\n",
       "          3.36281665e-02, -1.91330624e-02, -1.06674058e-01,\n",
       "          3.11975242e-02,  7.60095802e-02, -1.29899151e-01,\n",
       "          5.07193699e-02,  8.90799103e-02,  1.57234778e-02,\n",
       "          1.60897090e-01, -4.35301445e-03,  5.41278762e-02,\n",
       "          2.26404337e-01,  2.75124347e-02,  1.49890941e-01,\n",
       "         -7.53101281e-02, -1.36960858e-02,  1.88648351e-02,\n",
       "          6.68865894e-02,  9.04787108e-02, -1.75525333e-01,\n",
       "          1.15003216e-01, -9.86942049e-02, -7.44663800e-03,\n",
       "          0.00000000e+00, -1.49673764e-02, -5.16205955e-02,\n",
       "         -4.98254908e-02, -6.98750838e-04, -1.55845672e-02,\n",
       "         -3.81380808e-02,  7.92037126e-03,  8.83004513e-03,\n",
       "          3.53700134e-02,  1.12816530e-01, -7.06051392e-03,\n",
       "         -2.61058328e-02,  9.93578536e-02, -3.77844068e-02,\n",
       "          7.06833908e-02, -2.28860065e-02,  6.33049011e-02,\n",
       "         -1.09923285e-01, -2.73610345e-02, -1.25456725e-01,\n",
       "         -2.70593694e-02, -7.31223762e-02, -9.40416290e-02,\n",
       "         -1.90049726e-01, -1.15634784e-01, -1.19278262e-02,\n",
       "         -8.65044420e-03,  1.34177406e-03, -5.43320882e-02,\n",
       "          1.08908061e-01,  1.03653821e-01, -1.17414672e-02,\n",
       "          5.41377727e-02,  1.29678180e-01, -1.18493150e-01,\n",
       "          1.09847317e-01, -1.03999616e-01, -1.55920890e-01,\n",
       "          1.41350140e-01, -9.04455737e-02,  1.07994228e-01,\n",
       "          6.30171033e-02, -1.10361579e-01,  1.24079986e-01,\n",
       "         -2.54717923e-01, -4.35899597e-03, -1.04011695e-01,\n",
       "         -1.07744508e-01,  4.99188520e-02,  1.82283953e-01,\n",
       "         -3.94948746e-01, -1.23207260e-01,  2.84757568e-01,\n",
       "         -1.57974699e-01, -1.35639709e-02, -6.32189148e-02,\n",
       "          6.55755397e-02, -6.50110208e-02, -1.77579155e-01,\n",
       "          3.76761487e-02, -1.00630308e-01, -2.65012144e-02,\n",
       "          7.49262285e-02,  2.69521974e-02,  2.56521024e-02,\n",
       "          1.97608622e-01,  3.53168704e-03, -4.14452627e-02,\n",
       "         -1.01134482e-02,  9.62993292e-02, -5.53760440e-02,\n",
       "         -1.02590805e-01,  9.05030022e-02, -9.48476751e-02,\n",
       "          7.51321102e-02,  1.36850666e-01, -3.98543143e-02,\n",
       "         -1.24200352e-01,  1.93871914e-01, -4.23094725e-01,\n",
       "         -5.23836611e-01, -5.54928118e-02, -7.14963708e-04,\n",
       "          5.44720776e-04, -1.32380472e-01,  8.38682142e-03,\n",
       "          3.58358249e-02, -4.03736558e-02,  3.01053560e-01,\n",
       "         -3.89147696e-01,  7.58712829e-02, -9.68938905e-02,\n",
       "          3.27389303e-02, -3.02582855e-02,  8.47594166e-02,\n",
       "         -1.99953149e-02, -4.82449150e-02, -6.39030505e-02,\n",
       "          8.79818824e-02,  1.87118198e-01, -1.27299021e-01,\n",
       "          1.18519586e-01, -3.68237732e-03, -1.07867214e-01,\n",
       "         -9.42830519e-02,  1.11656033e-01,  8.09258454e-02,\n",
       "         -2.85547457e-01, -1.69666514e-01, -9.24950913e-03,\n",
       "         -4.36528964e-02, -7.02964279e-04, -6.46803929e-02,\n",
       "         -1.00136337e-01,  1.88149437e-01, -1.39893508e-01,\n",
       "         -2.23358351e-02,  3.47063238e-01, -1.66360483e-01,\n",
       "         -1.18569178e-02,  1.29368574e-01, -1.06307881e-02,\n",
       "          1.10123122e-01,  3.01477119e-02, -2.49719195e-02,\n",
       "          1.72782155e-01, -2.34783370e-01, -9.72920994e-02,\n",
       "          2.72495800e-01,  1.31672659e-01, -1.47826819e-01,\n",
       "          6.01243168e-02,  5.78001309e-02, -1.40494072e-01,\n",
       "         -8.47047763e-02, -7.19020171e-02, -3.03115505e-01,\n",
       "          2.69484844e-01, -5.48073197e-02, -1.72228581e-03,\n",
       "         -1.61877638e-01, -2.20599876e-01, -1.53461701e-01,\n",
       "         -5.08003091e-02,  1.79397544e-01,  9.64123116e-02,\n",
       "          1.45799470e-01, -3.04814151e-01, -4.69482575e-01,\n",
       "         -4.29720141e-01, -3.63529495e-01, -4.19250154e-01,\n",
       "         -4.28517100e-01, -3.45350425e-01,  1.11405635e-02,\n",
       "         -3.42779923e-02, -2.68594454e-01, -4.00696690e-02,\n",
       "          1.80758173e-01, -2.33194788e-01,  1.38738962e-02,\n",
       "         -1.98644562e-04,  1.36304686e-01, -1.30430648e-01,\n",
       "          1.00166281e-01, -2.43952227e-01, -9.42270312e-03,\n",
       "         -2.40402278e-03, -5.60028562e-03, -1.12754663e-02,\n",
       "         -2.33860317e-01,  2.56989077e-01, -6.70890289e-02,\n",
       "         -7.03447793e-01, -8.06083386e-01, -1.15442493e-01,\n",
       "         -2.62268306e-01, -2.26274295e-01, -5.03530519e-01,\n",
       "         -2.35417503e-01, -1.65921063e-01, -5.60292324e-01,\n",
       "         -3.26055314e-01,  2.23498035e-02, -1.45653611e-01,\n",
       "         -1.41392421e-01,  2.12133306e-01,  9.14795861e-02,\n",
       "          6.11507673e-02, -5.62533980e-02, -4.86166569e-01,\n",
       "          3.52008261e-02,  4.88690040e-02,  9.23122768e-02,\n",
       "         -1.25492976e-01, -1.66534161e-02, -3.28009787e-02,\n",
       "         -5.39381235e-02,  1.76113120e-01, -5.12733194e-01,\n",
       "         -1.31346943e-01, -1.02513125e-01, -2.90346167e-01,\n",
       "         -3.17541393e-01, -1.10687791e-01, -5.10472239e-02,\n",
       "          6.57700127e-02, -4.22349519e-02, -3.71390460e-02,\n",
       "          3.99641932e-02, -1.63906556e-01, -1.98974976e-01,\n",
       "         -9.74409145e-03, -5.61062364e-02, -2.89036394e-01,\n",
       "         -1.26756457e-01, -7.27489912e-02, -9.41418878e-02,\n",
       "         -5.57501240e-03,  1.37106390e-01,  3.08713450e-02,\n",
       "          5.52244535e-02,  7.40603303e-02, -3.94134232e-03,\n",
       "         -8.43581020e-02, -3.74442841e-02, -1.67143846e-01,\n",
       "          6.23354182e-02, -5.58619492e-01, -3.14110794e-01,\n",
       "          2.06644210e-01, -2.92517922e-02, -1.17710278e-01,\n",
       "         -1.17375308e-01, -1.85108957e-02,  9.35355788e-02,\n",
       "         -1.36468468e-01,  6.61587534e-02, -1.38416135e-01,\n",
       "          1.21298255e-01, -1.77894829e-01,  1.35323449e-01,\n",
       "         -6.71621250e-02,  8.16146837e-02, -1.85729392e-01,\n",
       "         -6.36397372e-02,  3.22614025e-02, -1.91052797e-01,\n",
       "         -9.74235973e-03,  1.09303799e-01,  4.47726399e-02,\n",
       "         -3.71864693e-03, -1.67540360e-03,  3.60391129e-02,\n",
       "          8.54298670e-02,  7.55458450e-02,  5.45813769e-01,\n",
       "          1.77655788e-01, -2.84990426e-01, -2.53672338e-02,\n",
       "          1.87179935e-02,  5.81999974e-02,  1.07375149e-01,\n",
       "         -3.03187912e-02,  9.95146689e-02, -6.06501775e-02,\n",
       "         -1.98430366e-02,  8.82717718e-02, -1.28004296e-01,\n",
       "         -2.86467536e-01,  1.76661965e-01, -2.02014519e-01,\n",
       "         -1.20248777e-03, -1.27545253e-01, -2.59365910e-01,\n",
       "          1.82083873e-01,  2.11908365e-02,  2.27098903e-02,\n",
       "          4.64554562e-02,  8.28493717e-04, -3.33574376e-02,\n",
       "         -1.54714036e-01,  4.62512552e-02, -6.97683802e-02,\n",
       "         -1.61839611e-01,  2.61885490e-01,  1.41010905e-01,\n",
       "         -6.19385778e-02,  6.78840070e-02,  5.95328879e-02,\n",
       "          7.47279900e-03,  1.63376544e-01,  1.48537169e-01,\n",
       "         -1.21609735e-01,  1.41277273e-02,  9.38658798e-02,\n",
       "          2.96187466e-01, -1.52167402e-01,  7.25265644e-02,\n",
       "         -1.62123139e-01,  2.08732761e-01,  4.51128733e-02,\n",
       "          1.78897758e-01, -3.86470492e-02,  7.78859881e-02,\n",
       "          1.03815976e-01,  9.02316917e-03,  0.00000000e+00,\n",
       "         -5.14617144e-02,  1.50883200e-01, -5.65524513e-03,\n",
       "          2.38047796e-02,  7.53919979e-02,  1.83178661e-01,\n",
       "         -1.14897226e-01,  1.60099399e-01,  1.81075275e-02,\n",
       "          4.12453799e-02,  1.19982409e-01,  1.16361919e-01,\n",
       "          1.70521906e-01, -8.03970246e-03,  2.92725193e-01,\n",
       "         -5.44555402e-02, -1.40702832e-01,  1.40286065e-01,\n",
       "         -1.67051979e-01,  1.27244647e-02, -1.31971778e-01,\n",
       "         -4.45868036e-02, -3.89267594e-03, -4.69177144e-02,\n",
       "          1.32446663e-01, -3.35404956e-03,  4.50511441e-02,\n",
       "         -1.02287969e-02, -1.59562115e-02, -1.02640366e-01,\n",
       "          4.55462265e-02, -3.31993581e-02,  2.81557568e-01,\n",
       "          4.63737365e-02,  2.44409616e-01,  8.29074153e-02,\n",
       "          8.18148862e-03,  2.12308754e-01, -1.62105654e-01,\n",
       "          2.86467493e-01,  5.59972747e-02,  1.20723327e-01,\n",
       "          4.59896389e-02,  1.53205938e-01,  1.21651463e-01,\n",
       "         -3.76218826e-02,  1.03276534e-01, -2.31841533e-03,\n",
       "          1.38367099e-01,  1.07658724e-01,  8.29796233e-02,\n",
       "          1.92665573e-01,  2.86499918e-02, -1.42789227e-02,\n",
       "          1.59804612e-02, -1.50129547e-02, -2.75786690e-02,\n",
       "         -5.28088599e-02, -1.21421544e-01,  8.96700378e-02,\n",
       "         -1.87911347e-01,  3.35292376e-02,  7.46181917e-02,\n",
       "          9.90396875e-03,  1.55618338e-01,  9.13039670e-02,\n",
       "          1.10268641e-01,  3.67082551e-02,  1.96405471e-01,\n",
       "          1.22732981e-01,  7.09321132e-02,  6.82895205e-04,\n",
       "          1.09978031e-01,  4.32490056e-02, -1.39615592e-01,\n",
       "          7.49540286e-02, -3.15673171e-02,  8.80505488e-02,\n",
       "         -2.65707445e-02, -2.75784645e-02,  1.03969041e-01,\n",
       "          8.04934127e-02, -1.07858742e-02,  0.00000000e+00,\n",
       "         -7.84473511e-02,  8.47303903e-02,  5.24136741e-02,\n",
       "          8.20883406e-02,  1.84113228e-01,  9.66355991e-02,\n",
       "          2.35655458e-01,  2.15253207e-01,  4.21147184e-02,\n",
       "         -5.36797074e-03,  2.99123724e-01, -4.30881973e-02,\n",
       "         -5.15545615e-02, -3.47571171e-02,  6.28635452e-03,\n",
       "          1.23599653e-01, -2.53453494e-01,  9.58721560e-02,\n",
       "          1.33305844e-01,  6.03656615e-02,  1.06236379e-01,\n",
       "         -4.82947010e-02,  4.59807113e-02,  1.21494112e-01,\n",
       "          3.59347212e-02, -8.46935315e-02, -3.28535569e-02,\n",
       "         -1.15732433e-02,  1.10210643e-02, -4.00012385e-02,\n",
       "         -8.45619730e-03, -9.50754131e-02, -6.60634963e-02,\n",
       "         -5.67218388e-02, -5.79320101e-03, -2.39271004e-01,\n",
       "          2.68200853e-01,  9.34486400e-02, -3.37786146e-02,\n",
       "         -2.51846339e-02, -2.88909817e-02, -6.32925161e-02,\n",
       "         -1.73456452e-01,  4.96379406e-02,  1.91697260e-01,\n",
       "         -1.05010978e-01,  2.38205983e-01, -4.38095023e-02,\n",
       "          9.42550555e-02,  4.02356947e-02,  1.70991055e-01,\n",
       "         -4.14378554e-02,  7.47352729e-02,  6.38837238e-02,\n",
       "         -8.52768065e-03, -1.15732433e-02, -3.03830064e-03,\n",
       "          1.41005833e-04, -6.85941057e-03,  5.50253984e-02,\n",
       "          1.44023901e-02,  9.22638694e-02,  7.30079830e-02,\n",
       "          2.24475906e-01,  1.03444960e-01, -4.35953239e-02,\n",
       "          1.47840128e-01,  2.93594978e-02,  1.03811829e-01,\n",
       "         -9.63748229e-02, -1.04396289e-01,  1.87408776e-02,\n",
       "         -9.75195429e-02,  2.22137271e-01, -9.74446512e-02,\n",
       "          1.37742283e-01, -4.32456212e-02,  8.38359593e-02,\n",
       "         -2.55166681e-02,  7.40231748e-02, -2.47052765e-02,\n",
       "         -8.66095843e-02, -8.52768065e-03,  0.00000000e+00,\n",
       "          0.00000000e+00, -4.04573193e-02,  1.93987328e-02,\n",
       "          5.31337067e-02, -7.04532432e-02,  8.81616643e-02,\n",
       "         -4.78005829e-02, -1.17938380e-01, -4.67628420e-02,\n",
       "         -6.52385004e-02, -1.26843483e-01,  2.18300921e-02,\n",
       "         -2.69837369e-01,  1.02090034e-01, -2.66868049e-01,\n",
       "          9.61711180e-02, -1.29266048e-01,  9.54007625e-02,\n",
       "          1.05466321e-01, -1.70732264e-02,  1.14040203e-01,\n",
       "         -2.46705236e-03,  8.57040994e-02, -1.35722821e-02,\n",
       "         -6.02962368e-03, -1.30071942e-02,  0.00000000e+00,\n",
       "          0.00000000e+00,  0.00000000e+00, -6.90195278e-02,\n",
       "         -1.81505245e-01, -2.80993610e-02, -1.27142840e-02,\n",
       "         -8.14651576e-02, -1.12190596e-01,  5.31302979e-03,\n",
       "          9.85918139e-03, -1.32489638e-01, -2.59561471e-02,\n",
       "          1.34528015e-02, -1.56241533e-01,  1.87070547e-01,\n",
       "         -1.05981591e-01, -1.32845825e-01,  1.54353190e-02,\n",
       "          7.35110744e-02,  2.32635483e-02, -2.43647661e-02,\n",
       "          7.26344404e-02,  4.54698717e-02, -8.26655767e-02,\n",
       "          8.41724174e-02,  1.35988820e-01, -1.26350383e-01,\n",
       "          0.00000000e+00,  0.00000000e+00,  0.00000000e+00,\n",
       "         -8.21048763e-03, -7.18461959e-03, -5.05513565e-02,\n",
       "         -8.30516795e-01,  1.88637941e-01, -3.04592848e-01,\n",
       "         -1.36717807e-01, -6.08180172e-01, -2.20374815e-01,\n",
       "         -3.85583929e-01, -2.02585653e-01, -2.53727288e-01,\n",
       "         -1.54445223e-01,  1.07384066e-01, -2.07752922e-01,\n",
       "          1.09835709e-01, -1.34147764e-01, -2.16138263e-01,\n",
       "          1.30821533e-01, -1.22040879e-01, -8.49880175e-02,\n",
       "         -1.15342615e-01, -1.90420750e-01, -9.16795474e-02,\n",
       "          1.31976183e-01,  0.00000000e+00,  0.00000000e+00,\n",
       "          0.00000000e+00,  0.00000000e+00,  1.46333778e-03,\n",
       "         -6.43507290e-04, -2.23075027e-02, -9.71613662e-02,\n",
       "         -1.63811968e-01, -2.12071077e-01, -1.60321230e-01,\n",
       "         -2.42586899e-01, -4.71313616e-01, -3.21747276e-01,\n",
       "         -4.03822789e-01, -4.03214197e-01, -4.89198359e-01,\n",
       "         -4.28310549e-01, -3.72619130e-01, -2.75420384e-01,\n",
       "         -8.59073972e-02, -1.57149281e-01, -1.76538906e-01,\n",
       "         -2.80862979e-01, -6.41107269e-03, -2.39976130e-03,\n",
       "         -8.68988004e-03,  0.00000000e+00,  0.00000000e+00,\n",
       "          0.00000000e+00,  0.00000000e+00,  0.00000000e+00,\n",
       "          0.00000000e+00, -9.12605183e-04,  2.79123147e-04,\n",
       "         -8.27492183e-03, -1.35346690e-02, -6.54389585e-03,\n",
       "         -1.59819621e-02, -5.45136454e-02, -1.09786031e-01,\n",
       "         -5.91021173e-02, -4.60221921e-02, -3.38145421e-02,\n",
       "         -1.41763943e-02, -1.05444376e-02, -1.78699167e-02,\n",
       "         -6.53258199e-03,  1.18560452e-07, -7.66815176e-03,\n",
       "         -3.70171230e-03, -6.18025953e-03,  1.55626398e-03,\n",
       "          0.00000000e+00,  0.00000000e+00,  0.00000000e+00,\n",
       "          0.00000000e+00]]))"
      ]
     },
     "execution_count": 80,
     "metadata": {},
     "output_type": "execute_result"
    }
   ],
   "source": [
    "log_clf.intercept_, log_clf.coef_"
   ]
  },
  {
   "cell_type": "code",
   "execution_count": null,
   "metadata": {},
   "outputs": [
    {
     "data": {
      "text/plain": [
       "array([False, False, False, False, False,  True, False, False, False,\n",
       "       False, False, False, False, False, False, False,  True, False,\n",
       "       False, False])"
      ]
     },
     "execution_count": 81,
     "metadata": {},
     "output_type": "execute_result"
    }
   ],
   "source": [
    "log_clf.predict(X_train_reduced)[0:20]"
   ]
  },
  {
   "cell_type": "code",
   "execution_count": null,
   "metadata": {},
   "outputs": [
    {
     "data": {
      "image/png": "[encoded data removed]",
      "text/plain": [
       "<Figure size 432x288 with 1 Axes>"
      ]
     },
     "metadata": {
      "needs_background": "light"
     },
     "output_type": "display_data"
    },
    {
     "data": {
      "image/png": "[encoded data removed]",
      "text/plain": [
       "<Figure size 432x288 with 1 Axes>"
      ]
     },
     "metadata": {
      "needs_background": "light"
     },
     "output_type": "display_data"
    },
    {
     "data": {
      "image/png": "[encoded data removed]",
      "text/plain": [
       "<Figure size 432x288 with 1 Axes>"
      ]
     },
     "metadata": {
      "needs_background": "light"
     },
     "output_type": "display_data"
    },
    {
     "data": {
      "image/png": "[encoded data removed]",
      "text/plain": [
       "<Figure size 432x288 with 1 Axes>"
      ]
     },
     "metadata": {
      "needs_background": "light"
     },
     "output_type": "display_data"
    },
    {
     "data": {
      "image/png": "[encoded data removed]",
      "text/plain": [
       "<Figure size 432x288 with 1 Axes>"
      ]
     },
     "metadata": {
      "needs_background": "light"
     },
     "output_type": "display_data"
    },
    {
     "data": {
      "image/png": "[encoded data removed]",
      "text/plain": [
       "<Figure size 432x288 with 1 Axes>"
      ]
     },
     "metadata": {
      "needs_background": "light"
     },
     "output_type": "display_data"
    },
    {
     "data": {
      "image/png": "[encoded data removed]",
      "text/plain": [
       "<Figure size 432x288 with 1 Axes>"
      ]
     },
     "metadata": {
      "needs_background": "light"
     },
     "output_type": "display_data"
    },
    {
     "data": {
      "image/png": "[encoded data removed]",
      "text/plain": [
       "<Figure size 432x288 with 1 Axes>"
      ]
     },
     "metadata": {
      "needs_background": "light"
     },
     "output_type": "display_data"
    },
    {
     "data": {
      "image/png": "[encoded data removed]",
      "text/plain": [
       "<Figure size 432x288 with 1 Axes>"
      ]
     },
     "metadata": {
      "needs_background": "light"
     },
     "output_type": "display_data"
    },
    {
     "data": {
      "image/png": "[encoded data removed]",
      "text/plain": [
       "<Figure size 432x288 with 1 Axes>"
      ]
     },
     "metadata": {
      "needs_background": "light"
     },
     "output_type": "display_data"
    },
    {
     "data": {
      "image/png": "[encoded data removed]",
      "text/plain": [
       "<Figure size 432x288 with 1 Axes>"
      ]
     },
     "metadata": {
      "needs_background": "light"
     },
     "output_type": "display_data"
    },
    {
     "data": {
      "image/png": "[encoded data removed]",
      "text/plain": [
       "<Figure size 432x288 with 1 Axes>"
      ]
     },
     "metadata": {
      "needs_background": "light"
     },
     "output_type": "display_data"
    },
    {
     "data": {
      "image/png": "[encoded data removed]",
      "text/plain": [
       "<Figure size 432x288 with 1 Axes>"
      ]
     },
     "metadata": {
      "needs_background": "light"
     },
     "output_type": "display_data"
    },
    {
     "data": {
      "image/png": "[encoded data removed]",
      "text/plain": [
       "<Figure size 432x288 with 1 Axes>"
      ]
     },
     "metadata": {
      "needs_background": "light"
     },
     "output_type": "display_data"
    },
    {
     "data": {
      "image/png": "[encoded data removed]",
      "text/plain": [
       "<Figure size 432x288 with 1 Axes>"
      ]
     },
     "metadata": {
      "needs_background": "light"
     },
     "output_type": "display_data"
    },
    {
     "data": {
      "image/png": "[encoded data removed]",
      "text/plain": [
       "<Figure size 432x288 with 1 Axes>"
      ]
     },
     "metadata": {
      "needs_background": "light"
     },
     "output_type": "display_data"
    },
    {
     "data": {
      "image/png": "[encoded data removed]",
      "text/plain": [
       "<Figure size 432x288 with 1 Axes>"
      ]
     },
     "metadata": {
      "needs_background": "light"
     },
     "output_type": "display_data"
    },
    {
     "data": {
      "image/png": "[encoded data removed]",
      "text/plain": [
       "<Figure size 432x288 with 1 Axes>"
      ]
     },
     "metadata": {
      "needs_background": "light"
     },
     "output_type": "display_data"
    },
    {
     "data": {
      "image/png": "[encoded data removed]",
      "text/plain": [
       "<Figure size 432x288 with 1 Axes>"
      ]
     },
     "metadata": {
      "needs_background": "light"
     },
     "output_type": "display_data"
    },
    {
     "data": {
      "image/png": "[encoded data removed]",
      "text/plain": [
       "<Figure size 432x288 with 1 Axes>"
      ]
     },
     "metadata": {
      "needs_background": "light"
     },
     "output_type": "display_data"
    }
   ],
   "source": [
    "for i in range(20):\n",
    "    plt.imshow(X[i].reshape([28,28]), cmap ='binary')\n",
    "    plt.title('i = %d -- This should be a %d'%(i,y[i]))\n",
    "    plt.show()"
   ]
  },
  {
   "cell_type": "code",
   "execution_count": null,
   "metadata": {},
   "outputs": [],
   "source": [
    "#à voir Matrice de confusion \n",
    "#accuracy = (TN + TP)/(TN+TP+FP+FN) \n",
    "#recall = (TP)/(TP+FN)\n",
    "#precision = (TP)/(TP+FP)\n",
    "#Harmonic mean = F1score = (2)/((1/Recall)+ (1/precision))\n",
    "#Il y a tout sur sklearn à cherche === \n",
    "# from sklearn.metrics import confusion_matrix, precision_score,recall_score,f1_score, accuracy_score"
   ]
  },
  {
   "cell_type": "code",
   "execution_count": null,
   "metadata": {},
   "outputs": [],
   "source": [
    "def performance(y_real,y_predicted):\n",
    "    print('The confusion matrix is:')\n",
    "    print(confusion_matrix(y_real,y_predicted))\n",
    "    metrics ={'Accuracy':accuracy_score, 'F1':f1_score, 'Recall':recall_score,'Precision':precision_score, 'Confusion Matrix':confusion_matrix}\n",
    "    for metric, func in metrics.items():\n",
    " #i dont use my model pn the test set , i first "
   ]
  },
  {
   "cell_type": "code",
   "execution_count": null,
   "metadata": {},
   "outputs": [],
   "source": [
    "y_is_two_train_predicted = log_clf.predict(X_train_reduced)\n",
    "performance(y_is_two_train, y_is_two_train_predicted)"
   ]
  },
  {
   "cell_type": "code",
   "execution_count": null,
   "metadata": {},
   "outputs": [],
   "source": [
    " #i dont use my model pn the test set , i first transform jsais pas quoi \n",
    "y_is_two_train_predicted = log_clf.predict(sc.transform(X_test))\n",
    "performance(y_is_two_test, y_is_two_train_predicted)\n",
    "\n",
    "#scaling, fit le stansdat scaling,transofrm @\n",
    "#classifer, fit , predict"
   ]
  },
  {
   "cell_type": "code",
   "execution_count": null,
   "metadata": {},
   "outputs": [],
   "source": [
    "wrong = np.argwhere(y_is_two_test != )"
   ]
  }
 ],
 "metadata": {
  "kernelspec": {
   "display_name": "Python 3.9.13 64-bit",
   "language": "python",
   "name": "python3"
  },
  "language_info": {
   "codemirror_mode": {
    "name": "ipython",
    "version": 3
   },
   "file_extension": ".py",
   "mimetype": "text/x-python",
   "name": "python",
   "nbconvert_exporter": "python",
   "pygments_lexer": "ipython3",
   "version": "3.9.13"
  },
  "vscode": {
   "interpreter": {
    "hash": "ac2eaa0ea0ebeafcc7822e65e46aa9d4f966f30b695406963e145ea4a91cd4fc"
   }
  }
 },
 "nbformat": 4,
 "nbformat_minor": 4
}
