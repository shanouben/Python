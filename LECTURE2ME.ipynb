{
 "cells": [
  {
   "cell_type": "code",
   "execution_count": null,
   "metadata": {},
   "outputs": [],
   "source": [
    "#Lecture 2 : Goal of today : Create a Strategy "
   ]
  },
  {
   "cell_type": "code",
   "execution_count": null,
   "metadata": {},
   "outputs": [],
   "source": [
    "import numpy as np\n",
    "from datetime import datetime\n",
    "import pandas as pd\n",
    "import matplotlib.pyplot as plt\n",
    "import seaborn as sns\n",
    "from tqdm import tqdm\n",
    "#from strategy import Strategy, CapiWeighted"
   ]
  },
  {
   "cell_type": "code",
   "execution_count": null,
   "metadata": {},
   "outputs": [],
   "source": [
    "data = pd.read_excel('excel1.xlsx',sheet_name= 'Data')"
   ]
  },
  {
   "cell_type": "code",
   "execution_count": null,
   "metadata": {},
   "outputs": [],
   "source": [
    "### taking only column 1-3 4-6 un truc du genre\n",
    "\n",
    "\n",
    "price_df_list = []\n",
    "for i in tqdm(range(120)):\n",
    "    price_data = data.iloc[:,3*i:3*i+2].copy()\n",
    "    price_data.dropna(inplace=True)\n",
    "    price_data.iloc[:,0] = pd.to_datetime(price_data.iloc[:,0], unit= 'D', origin= '1899-12-30')\n",
    "    price_data.rename(columns = {price_data.columns[0] : 'Date', price_data.columns[1]: price_data.columns[0]}, inplace = True)\n",
    "    price_data.set_index('Date', inplace = True)\n",
    "    price_df_list.append(price_data)\n",
    "    \n",
    "##AGGREGATE \n",
    "agg_price_data = price_df_list[0]\n",
    "for df in tqdm(price_df_list[1:]):\n",
    "    agg_price_data = agg_price_data.join(df, how='outer', sort = True) \n",
    "\n",
    "\n",
    "agg_price_data = agg_price_data[(agg_price_data.index >= '01-01-2019')& (agg_price_data.index <= '31-12-2020')]\n",
    "##on peut aussi inclure le 31 decembre 2018 pour inclure le 1 janvier\n",
    "agg_price_data"
   ]
  },
  {
   "cell_type": "code",
   "execution_count": null,
   "metadata": {},
   "outputs": [],
   "source": [
    "## clean the data the same as last lecture\n",
    "\n",
    "for ticker in agg_price_data.columns:\n",
    "    series = agg_price_data[ticker]\n",
    "    first = series.first_valid_index()\n",
    "    last = series.last_valid_index()\n",
    "    series_real = series[(series.index >= first) & (series.index <= last)].fillna(method = 'bfill')\n",
    "    agg_price_data[ticker][(agg_price_data[ticker].index >= first) & (agg_price_data[ticker].index <= last)] = series_real"
   ]
  },
  {
   "cell_type": "code",
   "execution_count": null,
   "metadata": {},
   "outputs": [],
   "source": [
    "##nulls is true or false \n",
    "for ticker in tqdm(agg_price_data.columns):\n",
    "    if agg_price_data[ticker].isnull().values.any():\n",
    "        print(ticker)\n",
    "        nulls = agg_price_data[ticker].isnull()\n",
    "        print(nulls[nulls == True].index)"
   ]
  },
  {
   "cell_type": "code",
   "execution_count": null,
   "metadata": {},
   "outputs": [],
   "source": [
    "plt.plot(agg_price_data['GTO NA Equity'])\n",
    "plt.show"
   ]
  },
  {
   "cell_type": "code",
   "execution_count": null,
   "metadata": {},
   "outputs": [],
   "source": [
    "plt.plot(agg_price_data['ING FP Equity'])\n",
    "plt.show"
   ]
  },
  {
   "cell_type": "code",
   "execution_count": null,
   "metadata": {},
   "outputs": [],
   "source": [
    "## IL ya toujours une fonction qui va faire ce que tu veux donc cherche la plutot que de la\n",
    "#creer\n",
    "\n",
    "returns = agg_price_data.pct_change().dropna() #set returns to 0 when the stock disappears\n",
    "returns"
   ]
  },
  {
   "cell_type": "code",
   "execution_count": 48,
   "metadata": {},
   "outputs": [
    {
     "name": "stderr",
     "output_type": "stream",
     "text": [
      "100%|██████████| 120/120 [00:00<00:00, 276.80it/s]\n"
     ]
    }
   ],
   "source": [
    "#on va faire une capitalisation \n",
    "df_mkt_cap_list = []\n",
    "for i in tqdm(range(120)):\n",
    "    mkt_cap_data = data.iloc[:,[3*i,3*i+2]].copy()\n",
    "    mkt_cap_data.dropna(inplace=True)\n",
    "    mkt_cap_data.iloc[:,0] = pd.to_datetime(mkt_cap_data.iloc[:,0], unit= 'D', origin= '1899-12-30')\n",
    "    mkt_cap_data.rename(columns = {mkt_cap_data.columns[0] : 'Date', mkt_cap_data.columns[1]: mkt_cap_data.columns[0]}, inplace = True)\n",
    "    mkt_cap_data.set_index('Date', inplace = True)\n",
    "    df_mkt_cap_list.append(mkt_cap_data)\n",
    "    "
   ]
  },
  {
   "cell_type": "code",
   "execution_count": 49,
   "metadata": {},
   "outputs": [
    {
     "name": "stderr",
     "output_type": "stream",
     "text": [
      "100%|██████████| 119/119 [00:00<00:00, 317.90it/s]\n"
     ]
    }
   ],
   "source": [
    "agg_mkt_cap_data = df_mkt_cap_list[0]\n",
    "for df in tqdm(df_mkt_cap_list[1:]):\n",
    "    agg_mkt_cap_data = agg_mkt_cap_data.join(df, how='outer', sort = True) \n"
   ]
  },
  {
   "cell_type": "code",
   "execution_count": 56,
   "metadata": {},
   "outputs": [],
   "source": [
    "\n",
    "#agg_mkt_cap_data['ALO FP Equity']['11-2020']/agg_price_data['ALO FP Equity']['11-2020']\n",
    "\n",
    "agg_mkt_cap_data['ALO FP Equity'].fillna(method = 'bfill', inplace = True)"
   ]
  },
  {
   "cell_type": "code",
   "execution_count": 57,
   "metadata": {},
   "outputs": [
    {
     "name": "stderr",
     "output_type": "stream",
     "text": [
      "/usr/local/lib/python3.9/site-packages/pandas/core/arraylike.py:52: UserWarning: Parsing '31-12-2020' in DD/MM/YYYY format. Provide format or specify infer_datetime_format=True for consistent parsing.\n",
      "  return self._cmp_method(other, operator.le)\n"
     ]
    }
   ],
   "source": [
    "agg_mkt_cap_data = agg_mkt_cap_data[(agg_mkt_cap_data.index >= '01-01-2019')& (agg_mkt_cap_data.index <= '31-12-2020')]\n"
   ]
  },
  {
   "cell_type": "code",
   "execution_count": null,
   "metadata": {},
   "outputs": [],
   "source": [
    "agg_mkt_cap_data.fillna(value=0.0, inplace=True)\n",
    "agg_mkt_cap_data.isnull().values.any()"
   ]
  },
  {
   "cell_type": "code",
   "execution_count": 71,
   "metadata": {},
   "outputs": [],
   "source": [
    "class stringm2 :\n",
    "    def _init_(self,s,n):\n",
    "        self.newstring = s + str(n)\n",
    "        \n",
    "    def length(self):\n",
    "        return len(self.newstring) \n",
    "    \n",
    "    def doublelength(self):\n",
    "        return 2*self._length #fonction privée       "
   ]
  },
  {
   "cell_type": "code",
   "execution_count": 72,
   "metadata": {},
   "outputs": [],
   "source": [
    "sss = stringm2()\n",
    "hello = sss._init_('Python',1)\n",
    "hello "
   ]
  },
  {
   "cell_type": "code",
   "execution_count": null,
   "metadata": {},
   "outputs": [],
   "source": [
    "#creating the strategy and copiweighted classes\n",
    "#talking zbout homework 1 \n",
    "#Starting part 2 on ML"
   ]
  },
  {
   "cell_type": "code",
   "execution_count": null,
   "metadata": {},
   "outputs": [],
   "source": []
  }
 ],
 "metadata": {
  "kernelspec": {
   "display_name": "Python 3.9.13 64-bit",
   "language": "python",
   "name": "python3"
  },
  "language_info": {
   "codemirror_mode": {
    "name": "ipython",
    "version": 3
   },
   "file_extension": ".py",
   "mimetype": "text/x-python",
   "name": "python",
   "nbconvert_exporter": "python",
   "pygments_lexer": "ipython3",
   "version": "3.9.13"
  },
  "orig_nbformat": 4,
  "vscode": {
   "interpreter": {
    "hash": "ac2eaa0ea0ebeafcc7822e65e46aa9d4f966f30b695406963e145ea4a91cd4fc"
   }
  }
 },
 "nbformat": 4,
 "nbformat_minor": 2
}
