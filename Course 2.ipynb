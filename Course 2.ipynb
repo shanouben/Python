{
 "cells": [
  {
   "cell_type": "code",
   "execution_count": null,
   "metadata": {},
   "outputs": [],
   "source": [
    "import numpy as np\n",
    "from datetime import datetime\n",
    "import pandas as pd\n",
    "import matplotlib.pyplot as plt\n",
    "from tqdm import tqdm"
   ]
  },
  {
   "cell_type": "code",
   "execution_count": 58,
   "metadata": {},
   "outputs": [],
   "source": [
    "data = pd.read_excel('excel1.xlsx', sheet_name = 'Data')"
   ]
  },
  {
   "cell_type": "code",
   "execution_count": 59,
   "metadata": {},
   "outputs": [
    {
     "name": "stderr",
     "output_type": "stream",
     "text": [
      "100%|██████████| 120/120 [00:00<00:00, 300.78it/s]\n"
     ]
    },
    {
     "name": "stdout",
     "output_type": "stream",
     "text": [
      "            NXI FP Equity\n",
      "Date                     \n",
      "2010-12-31        26.4957\n",
      "2011-01-03        26.8603\n",
      "2011-01-04        27.2288\n",
      "2011-01-05        27.1047\n",
      "2011-01-06        27.1861\n",
      "...                   ...\n",
      "2021-09-01        43.5800\n",
      "2021-09-02        43.3600\n",
      "2021-09-03        43.6600\n",
      "2021-09-06        43.6200\n",
      "2021-09-07        43.6800\n",
      "\n",
      "[2734 rows x 1 columns]\n"
     ]
    },
    {
     "name": "stderr",
     "output_type": "stream",
     "text": [
      "100%|██████████| 119/119 [00:00<00:00, 454.50it/s]"
     ]
    },
    {
     "name": "stdout",
     "output_type": "stream",
     "text": [
      "CPU times: user 529 ms, sys: 90.4 ms, total: 620 ms\n",
      "Wall time: 706 ms\n"
     ]
    },
    {
     "name": "stderr",
     "output_type": "stream",
     "text": [
      "\n",
      "/usr/local/lib/python3.9/site-packages/pandas/core/arraylike.py:60: UserWarning: Parsing '31/12/2018' in DD/MM/YYYY format. Provide format or specify infer_datetime_format=True for consistent parsing.\n",
      "  return self._cmp_method(other, operator.ge)\n",
      "/usr/local/lib/python3.9/site-packages/pandas/core/arraylike.py:52: UserWarning: Parsing '31/12/2020' in DD/MM/YYYY format. Provide format or specify infer_datetime_format=True for consistent parsing.\n",
      "  return self._cmp_method(other, operator.le)\n"
     ]
    }
   ],
   "source": [
    "%%time\n",
    "\n",
    "price_df_list = []\n",
    "for i in tqdm(range(120)):\n",
    "    price_data = data.iloc[:,3*i:3*i+2].copy()\n",
    "    price_data.dropna(inplace=True)\n",
    "    price_data.iloc[:,0] = pd.to_datetime(price_data.iloc[:,0], unit= 'D', origin= '1899-12-30')\n",
    "    price_data.rename(columns = {price_data.columns[0] : 'Date', price_data.columns[1]: price_data.columns[0]}, inplace = True)\n",
    "    price_data.set_index('Date', inplace = True)\n",
    "    price_df_list.append(price_data)\n",
    "\n",
    "print(price_data)\n",
    "\n",
    "agg_price_data = price_df_list[0]\n",
    "for df in tqdm(price_df_list[1:]):\n",
    "    agg_price_data = agg_price_data.join(df, how='outer', sort = True)\n",
    "\n",
    "agg_price_data = agg_price_data[(agg_price_data.index >= '31/12/2018') & (agg_price_data.index <= '31/12/2020')].copy()"
   ]
  },
  {
   "cell_type": "code",
   "execution_count": null,
   "metadata": {},
   "outputs": [],
   "source": [
    "agg_price_data"
   ]
  },
  {
   "cell_type": "code",
   "execution_count": null,
   "metadata": {
    "pycharm": {
     "name": "#%%\n"
    }
   },
   "outputs": [],
   "source": [
    "for ticker in tqdm(agg_price_data.columns):\n",
    "    series = agg_price_data[ticker]\n",
    "    first = series.first_valid_index()\n",
    "    last = series.last_valid_index()\n",
    "    series_real = series[(series.index >= first) & (series.index <= last)].fillna(method = 'bfill')\n",
    "    agg_price_data[ticker][(agg_price_data[ticker].index >= first) & (agg_price_data[ticker].index <= last)] = series_real"
   ]
  },
  {
   "cell_type": "code",
   "execution_count": null,
   "metadata": {
    "pycharm": {
     "name": "#%%\n"
    }
   },
   "outputs": [],
   "source": [
    "for ticker in tqdm(agg_price_data.columns):\n",
    "    if agg_price_data[ticker].isnull().values.any():\n",
    "        print(ticker)\n",
    "        nulls = agg_price_data[ticker].isnull()\n",
    "        print(nulls[nulls == True].index)"
   ]
  },
  {
   "cell_type": "markdown",
   "metadata": {
    "pycharm": {
     "name": "#%% md\n"
    }
   },
   "source": [
    "- GTO -> Gemalto bought by Thales\n",
    "- ING -> Ingenico bought by Worldline\n",
    "- ALT -> Altran became subsidiary of Capgemini"
   ]
  },
  {
   "cell_type": "code",
   "execution_count": null,
   "metadata": {
    "pycharm": {
     "name": "#%%\n"
    }
   },
   "outputs": [],
   "source": [
    "plt.plot(agg_price_data['GTO NA Equity'])\n",
    "plt.show()"
   ]
  },
  {
   "cell_type": "code",
   "execution_count": null,
   "metadata": {
    "pycharm": {
     "name": "#%%\n"
    }
   },
   "outputs": [],
   "source": [
    "plt.plot(agg_price_data['ING FP Equity'])\n",
    "plt.show()"
   ]
  },
  {
   "cell_type": "code",
   "execution_count": null,
   "metadata": {
    "pycharm": {
     "name": "#%%\n"
    }
   },
   "outputs": [],
   "source": [
    "plt.plot(agg_price_data['ALT FP Equity'])\n",
    "plt.show()"
   ]
  },
  {
   "cell_type": "code",
   "execution_count": null,
   "metadata": {},
   "outputs": [],
   "source": [
    "(agg_price_data - agg_price_data.shift(1))/agg_price_data.shift(1)"
   ]
  },
  {
   "cell_type": "code",
   "execution_count": null,
   "metadata": {},
   "outputs": [],
   "source": [
    "agg_price_data.pct_change()"
   ]
  },
  {
   "cell_type": "code",
   "execution_count": null,
   "metadata": {
    "pycharm": {
     "name": "#%%\n"
    }
   },
   "outputs": [],
   "source": [
    "returns = agg_price_data.pct_change().dropna() # set returns to 0 when the stock disappears\n",
    "returns"
   ]
  },
  {
   "cell_type": "code",
   "execution_count": null,
   "metadata": {
    "pycharm": {
     "name": "#%%\n"
    }
   },
   "outputs": [],
   "source": [
    "df_mkt_cap_list = []\n",
    "for i in tqdm(range(120)):\n",
    "    mkt_cap_data = data.iloc[:,[3*i,3*i+2]].copy()\n",
    "    mkt_cap_data.dropna(inplace = True)\n",
    "    mkt_cap_data.iloc[:,0] = pd.to_datetime(mkt_cap_data.iloc[:,0], unit= 'D', origin= '1899-12-30')\n",
    "    mkt_cap_data.rename(columns = {mkt_cap_data.columns[0] : 'Date', mkt_cap_data.columns[1]: mkt_cap_data.columns[0]}, inplace = True)\n",
    "    mkt_cap_data.set_index('Date', inplace = True)\n",
    "    df_mkt_cap_list.append(mkt_cap_data)\n",
    "\n",
    "agg_mkt_cap_data = df_mkt_cap_list[0]\n",
    "for df in tqdm(df_mkt_cap_list[1:]):\n",
    "    agg_mkt_cap_data = agg_mkt_cap_data.join(df, how='outer', sort = True)"
   ]
  },
  {
   "cell_type": "code",
   "execution_count": null,
   "metadata": {},
   "outputs": [],
   "source": [
    "agg_mkt_cap_data"
   ]
  },
  {
   "cell_type": "code",
   "execution_count": null,
   "metadata": {
    "pycharm": {
     "name": "#%%\n"
    }
   },
   "outputs": [],
   "source": [
    "agg_mkt_cap_data = agg_mkt_cap_data[(agg_mkt_cap_data.index >= '31/12/2018') & (agg_mkt_cap_data.index <= '31/12/2020')].copy()"
   ]
  },
  {
   "cell_type": "code",
   "execution_count": null,
   "metadata": {
    "pycharm": {
     "name": "#%%\n"
    }
   },
   "outputs": [],
   "source": [
    "for ticker in tqdm(agg_mkt_cap_data.columns):\n",
    "    if agg_mkt_cap_data[ticker].isnull().values.any():\n",
    "        print(ticker)\n",
    "        nulls = agg_mkt_cap_data[ticker].isnull()\n",
    "        print(nulls[nulls == True].index)"
   ]
  },
  {
   "cell_type": "code",
   "execution_count": null,
   "metadata": {
    "pycharm": {
     "name": "#%%\n"
    }
   },
   "outputs": [],
   "source": [
    "agg_mkt_cap_data['ALO FP Equity']['11-2020']"
   ]
  },
  {
   "cell_type": "code",
   "execution_count": null,
   "metadata": {
    "pycharm": {
     "name": "#%%\n"
    }
   },
   "outputs": [],
   "source": [
    "agg_mkt_cap_data['ALO FP Equity']['11-2020']/agg_price_data['ALO FP Equity']['11-2020']"
   ]
  },
  {
   "cell_type": "code",
   "execution_count": null,
   "metadata": {
    "pycharm": {
     "name": "#%%\n"
    }
   },
   "outputs": [],
   "source": [
    "agg_mkt_cap_data['ALO FP Equity'].fillna(method = 'bfill', inplace = True)\n",
    "agg_mkt_cap_data['ALO FP Equity']['11-2020']"
   ]
  },
  {
   "cell_type": "code",
   "execution_count": null,
   "metadata": {
    "pycharm": {
     "name": "#%%\n"
    }
   },
   "outputs": [],
   "source": [
    "agg_mkt_cap_data.fillna(value = 0.0, inplace = True)"
   ]
  },
  {
   "cell_type": "code",
   "execution_count": null,
   "metadata": {
    "pycharm": {
     "name": "#%%\n"
    }
   },
   "outputs": [],
   "source": [
    "agg_mkt_cap_data.isnull().values.any()"
   ]
  },
  {
   "cell_type": "code",
   "execution_count": null,
   "metadata": {},
   "outputs": [],
   "source": [
    "from strategy import Strategy"
   ]
  },
  {
   "cell_type": "code",
   "execution_count": null,
   "metadata": {},
   "outputs": [],
   "source": [
    "sg_returns = agg_price_data['GLE FP Equity'].loc['2019':].pct_change().dropna()\n",
    "longonly_sg = Strategy('Long Only SG', sg_returns)"
   ]
  },
  {
   "cell_type": "code",
   "execution_count": null,
   "metadata": {},
   "outputs": [],
   "source": [
    "type(longonly_sg)\n",
    "longonly_sg.sharpe_ratio()"
   ]
  },
  {
   "cell_type": "code",
   "execution_count": null,
   "metadata": {},
   "outputs": [],
   "source": [
    "longonly_sg.illustrate()"
   ]
  },
  {
   "cell_type": "code",
   "execution_count": null,
   "metadata": {},
   "outputs": [],
   "source": [
    "\n",
    "from strategy import CapiWeighted\n",
    "cw_port = CapiWeighted('CW_all', returns, agg_mkt_cap_data)\n",
    "cw_port.illustrate()"
   ]
  }
 ],
 "metadata": {
  "kernelspec": {
   "display_name": "Python 3.9.13 64-bit",
   "language": "python",
   "name": "python3"
  },
  "language_info": {
   "codemirror_mode": {
    "name": "ipython",
    "version": 3
   },
   "file_extension": ".py",
   "mimetype": "text/x-python",
   "name": "python",
   "nbconvert_exporter": "python",
   "pygments_lexer": "ipython3",
   "version": "3.9.13"
  },
  "vscode": {
   "interpreter": {
    "hash": "ac2eaa0ea0ebeafcc7822e65e46aa9d4f966f30b695406963e145ea4a91cd4fc"
   }
  }
 },
 "nbformat": 4,
 "nbformat_minor": 4
}
